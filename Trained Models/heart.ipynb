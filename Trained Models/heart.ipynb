{
 "cells": [
  {
   "cell_type": "markdown",
   "metadata": {
    "id": "egMd5zeurTMR"
   },
   "source": [
    "### Data Collection and Processing"
   ]
  },
  {
   "cell_type": "code",
   "execution_count": 1,
   "metadata": {
    "executionInfo": {
     "elapsed": 13,
     "status": "ok",
     "timestamp": 1653200233516,
     "user": {
      "displayName": "siddhardh selvam",
      "userId": "13966379820454708749"
     },
     "user_tz": -330
    },
    "id": "0q-3-LkQrREV"
   },
   "outputs": [],
   "source": [
    "# loading the csv data to a Pandas DataFrame\n",
    "import pandas as pd\n",
    "heart_data = pd.read_csv('heart.csv')"
   ]
  },
  {
   "cell_type": "code",
   "execution_count": 2,
   "metadata": {
    "colab": {
     "base_uri": "https://localhost:8080/",
     "height": 206
    },
    "executionInfo": {
     "elapsed": 12,
     "status": "ok",
     "timestamp": 1653200233516,
     "user": {
      "displayName": "siddhardh selvam",
      "userId": "13966379820454708749"
     },
     "user_tz": -330
    },
    "id": "M8dQxSTqriWD",
    "outputId": "0ab48855-8403-4103-c7c8-e307c07da055"
   },
   "outputs": [
    {
     "data": {
      "text/html": [
       "<div>\n",
       "<style scoped>\n",
       "    .dataframe tbody tr th:only-of-type {\n",
       "        vertical-align: middle;\n",
       "    }\n",
       "\n",
       "    .dataframe tbody tr th {\n",
       "        vertical-align: top;\n",
       "    }\n",
       "\n",
       "    .dataframe thead th {\n",
       "        text-align: right;\n",
       "    }\n",
       "</style>\n",
       "<table border=\"1\" class=\"dataframe\">\n",
       "  <thead>\n",
       "    <tr style=\"text-align: right;\">\n",
       "      <th></th>\n",
       "      <th>age</th>\n",
       "      <th>sex</th>\n",
       "      <th>cp</th>\n",
       "      <th>trestbps</th>\n",
       "      <th>chol</th>\n",
       "      <th>fbs</th>\n",
       "      <th>restecg</th>\n",
       "      <th>thalach</th>\n",
       "      <th>exang</th>\n",
       "      <th>oldpeak</th>\n",
       "      <th>slope</th>\n",
       "      <th>ca</th>\n",
       "      <th>thal</th>\n",
       "      <th>target</th>\n",
       "    </tr>\n",
       "  </thead>\n",
       "  <tbody>\n",
       "    <tr>\n",
       "      <th>0</th>\n",
       "      <td>63</td>\n",
       "      <td>1</td>\n",
       "      <td>3</td>\n",
       "      <td>145</td>\n",
       "      <td>233</td>\n",
       "      <td>1</td>\n",
       "      <td>0</td>\n",
       "      <td>150</td>\n",
       "      <td>0</td>\n",
       "      <td>2.3</td>\n",
       "      <td>0</td>\n",
       "      <td>0</td>\n",
       "      <td>1</td>\n",
       "      <td>1</td>\n",
       "    </tr>\n",
       "    <tr>\n",
       "      <th>1</th>\n",
       "      <td>37</td>\n",
       "      <td>1</td>\n",
       "      <td>2</td>\n",
       "      <td>130</td>\n",
       "      <td>250</td>\n",
       "      <td>0</td>\n",
       "      <td>1</td>\n",
       "      <td>187</td>\n",
       "      <td>0</td>\n",
       "      <td>3.5</td>\n",
       "      <td>0</td>\n",
       "      <td>0</td>\n",
       "      <td>2</td>\n",
       "      <td>1</td>\n",
       "    </tr>\n",
       "    <tr>\n",
       "      <th>2</th>\n",
       "      <td>41</td>\n",
       "      <td>0</td>\n",
       "      <td>1</td>\n",
       "      <td>130</td>\n",
       "      <td>204</td>\n",
       "      <td>0</td>\n",
       "      <td>0</td>\n",
       "      <td>172</td>\n",
       "      <td>0</td>\n",
       "      <td>1.4</td>\n",
       "      <td>2</td>\n",
       "      <td>0</td>\n",
       "      <td>2</td>\n",
       "      <td>1</td>\n",
       "    </tr>\n",
       "    <tr>\n",
       "      <th>3</th>\n",
       "      <td>56</td>\n",
       "      <td>1</td>\n",
       "      <td>1</td>\n",
       "      <td>120</td>\n",
       "      <td>236</td>\n",
       "      <td>0</td>\n",
       "      <td>1</td>\n",
       "      <td>178</td>\n",
       "      <td>0</td>\n",
       "      <td>0.8</td>\n",
       "      <td>2</td>\n",
       "      <td>0</td>\n",
       "      <td>2</td>\n",
       "      <td>1</td>\n",
       "    </tr>\n",
       "    <tr>\n",
       "      <th>4</th>\n",
       "      <td>57</td>\n",
       "      <td>0</td>\n",
       "      <td>0</td>\n",
       "      <td>120</td>\n",
       "      <td>354</td>\n",
       "      <td>0</td>\n",
       "      <td>1</td>\n",
       "      <td>163</td>\n",
       "      <td>1</td>\n",
       "      <td>0.6</td>\n",
       "      <td>2</td>\n",
       "      <td>0</td>\n",
       "      <td>2</td>\n",
       "      <td>1</td>\n",
       "    </tr>\n",
       "  </tbody>\n",
       "</table>\n",
       "</div>"
      ],
      "text/plain": [
       "   age  sex  cp  trestbps  chol  fbs  restecg  thalach  exang  oldpeak  slope  \\\n",
       "0   63    1   3       145   233    1        0      150      0      2.3      0   \n",
       "1   37    1   2       130   250    0        1      187      0      3.5      0   \n",
       "2   41    0   1       130   204    0        0      172      0      1.4      2   \n",
       "3   56    1   1       120   236    0        1      178      0      0.8      2   \n",
       "4   57    0   0       120   354    0        1      163      1      0.6      2   \n",
       "\n",
       "   ca  thal  target  \n",
       "0   0     1       1  \n",
       "1   0     2       1  \n",
       "2   0     2       1  \n",
       "3   0     2       1  \n",
       "4   0     2       1  "
      ]
     },
     "execution_count": 2,
     "metadata": {},
     "output_type": "execute_result"
    }
   ],
   "source": [
    "# print first 5 rows of the dataset\n",
    "heart_data.head()"
   ]
  },
  {
   "cell_type": "code",
   "execution_count": 3,
   "metadata": {
    "colab": {
     "base_uri": "https://localhost:8080/",
     "height": 206
    },
    "executionInfo": {
     "elapsed": 808,
     "status": "ok",
     "timestamp": 1653200234314,
     "user": {
      "displayName": "siddhardh selvam",
      "userId": "13966379820454708749"
     },
     "user_tz": -330
    },
    "id": "Fx_aCZDgrqdR",
    "outputId": "a8dea85c-ba32-493b-c199-354a6e4ce093"
   },
   "outputs": [
    {
     "data": {
      "text/html": [
       "<div>\n",
       "<style scoped>\n",
       "    .dataframe tbody tr th:only-of-type {\n",
       "        vertical-align: middle;\n",
       "    }\n",
       "\n",
       "    .dataframe tbody tr th {\n",
       "        vertical-align: top;\n",
       "    }\n",
       "\n",
       "    .dataframe thead th {\n",
       "        text-align: right;\n",
       "    }\n",
       "</style>\n",
       "<table border=\"1\" class=\"dataframe\">\n",
       "  <thead>\n",
       "    <tr style=\"text-align: right;\">\n",
       "      <th></th>\n",
       "      <th>age</th>\n",
       "      <th>sex</th>\n",
       "      <th>cp</th>\n",
       "      <th>trestbps</th>\n",
       "      <th>chol</th>\n",
       "      <th>fbs</th>\n",
       "      <th>restecg</th>\n",
       "      <th>thalach</th>\n",
       "      <th>exang</th>\n",
       "      <th>oldpeak</th>\n",
       "      <th>slope</th>\n",
       "      <th>ca</th>\n",
       "      <th>thal</th>\n",
       "      <th>target</th>\n",
       "    </tr>\n",
       "  </thead>\n",
       "  <tbody>\n",
       "    <tr>\n",
       "      <th>count</th>\n",
       "      <td>303.000000</td>\n",
       "      <td>303.000000</td>\n",
       "      <td>303.000000</td>\n",
       "      <td>303.000000</td>\n",
       "      <td>303.000000</td>\n",
       "      <td>303.000000</td>\n",
       "      <td>303.000000</td>\n",
       "      <td>303.000000</td>\n",
       "      <td>303.000000</td>\n",
       "      <td>303.000000</td>\n",
       "      <td>303.000000</td>\n",
       "      <td>303.000000</td>\n",
       "      <td>303.000000</td>\n",
       "      <td>303.000000</td>\n",
       "    </tr>\n",
       "    <tr>\n",
       "      <th>mean</th>\n",
       "      <td>54.366337</td>\n",
       "      <td>0.683168</td>\n",
       "      <td>0.966997</td>\n",
       "      <td>131.623762</td>\n",
       "      <td>246.264026</td>\n",
       "      <td>0.148515</td>\n",
       "      <td>0.528053</td>\n",
       "      <td>149.646865</td>\n",
       "      <td>0.326733</td>\n",
       "      <td>1.039604</td>\n",
       "      <td>1.399340</td>\n",
       "      <td>0.729373</td>\n",
       "      <td>2.313531</td>\n",
       "      <td>0.544554</td>\n",
       "    </tr>\n",
       "    <tr>\n",
       "      <th>std</th>\n",
       "      <td>9.082101</td>\n",
       "      <td>0.466011</td>\n",
       "      <td>1.032052</td>\n",
       "      <td>17.538143</td>\n",
       "      <td>51.830751</td>\n",
       "      <td>0.356198</td>\n",
       "      <td>0.525860</td>\n",
       "      <td>22.905161</td>\n",
       "      <td>0.469794</td>\n",
       "      <td>1.161075</td>\n",
       "      <td>0.616226</td>\n",
       "      <td>1.022606</td>\n",
       "      <td>0.612277</td>\n",
       "      <td>0.498835</td>\n",
       "    </tr>\n",
       "    <tr>\n",
       "      <th>min</th>\n",
       "      <td>29.000000</td>\n",
       "      <td>0.000000</td>\n",
       "      <td>0.000000</td>\n",
       "      <td>94.000000</td>\n",
       "      <td>126.000000</td>\n",
       "      <td>0.000000</td>\n",
       "      <td>0.000000</td>\n",
       "      <td>71.000000</td>\n",
       "      <td>0.000000</td>\n",
       "      <td>0.000000</td>\n",
       "      <td>0.000000</td>\n",
       "      <td>0.000000</td>\n",
       "      <td>0.000000</td>\n",
       "      <td>0.000000</td>\n",
       "    </tr>\n",
       "    <tr>\n",
       "      <th>25%</th>\n",
       "      <td>47.500000</td>\n",
       "      <td>0.000000</td>\n",
       "      <td>0.000000</td>\n",
       "      <td>120.000000</td>\n",
       "      <td>211.000000</td>\n",
       "      <td>0.000000</td>\n",
       "      <td>0.000000</td>\n",
       "      <td>133.500000</td>\n",
       "      <td>0.000000</td>\n",
       "      <td>0.000000</td>\n",
       "      <td>1.000000</td>\n",
       "      <td>0.000000</td>\n",
       "      <td>2.000000</td>\n",
       "      <td>0.000000</td>\n",
       "    </tr>\n",
       "    <tr>\n",
       "      <th>50%</th>\n",
       "      <td>55.000000</td>\n",
       "      <td>1.000000</td>\n",
       "      <td>1.000000</td>\n",
       "      <td>130.000000</td>\n",
       "      <td>240.000000</td>\n",
       "      <td>0.000000</td>\n",
       "      <td>1.000000</td>\n",
       "      <td>153.000000</td>\n",
       "      <td>0.000000</td>\n",
       "      <td>0.800000</td>\n",
       "      <td>1.000000</td>\n",
       "      <td>0.000000</td>\n",
       "      <td>2.000000</td>\n",
       "      <td>1.000000</td>\n",
       "    </tr>\n",
       "    <tr>\n",
       "      <th>75%</th>\n",
       "      <td>61.000000</td>\n",
       "      <td>1.000000</td>\n",
       "      <td>2.000000</td>\n",
       "      <td>140.000000</td>\n",
       "      <td>274.500000</td>\n",
       "      <td>0.000000</td>\n",
       "      <td>1.000000</td>\n",
       "      <td>166.000000</td>\n",
       "      <td>1.000000</td>\n",
       "      <td>1.600000</td>\n",
       "      <td>2.000000</td>\n",
       "      <td>1.000000</td>\n",
       "      <td>3.000000</td>\n",
       "      <td>1.000000</td>\n",
       "    </tr>\n",
       "    <tr>\n",
       "      <th>max</th>\n",
       "      <td>77.000000</td>\n",
       "      <td>1.000000</td>\n",
       "      <td>3.000000</td>\n",
       "      <td>200.000000</td>\n",
       "      <td>564.000000</td>\n",
       "      <td>1.000000</td>\n",
       "      <td>2.000000</td>\n",
       "      <td>202.000000</td>\n",
       "      <td>1.000000</td>\n",
       "      <td>6.200000</td>\n",
       "      <td>2.000000</td>\n",
       "      <td>4.000000</td>\n",
       "      <td>3.000000</td>\n",
       "      <td>1.000000</td>\n",
       "    </tr>\n",
       "  </tbody>\n",
       "</table>\n",
       "</div>"
      ],
      "text/plain": [
       "              age         sex          cp    trestbps        chol         fbs  \\\n",
       "count  303.000000  303.000000  303.000000  303.000000  303.000000  303.000000   \n",
       "mean    54.366337    0.683168    0.966997  131.623762  246.264026    0.148515   \n",
       "std      9.082101    0.466011    1.032052   17.538143   51.830751    0.356198   \n",
       "min     29.000000    0.000000    0.000000   94.000000  126.000000    0.000000   \n",
       "25%     47.500000    0.000000    0.000000  120.000000  211.000000    0.000000   \n",
       "50%     55.000000    1.000000    1.000000  130.000000  240.000000    0.000000   \n",
       "75%     61.000000    1.000000    2.000000  140.000000  274.500000    0.000000   \n",
       "max     77.000000    1.000000    3.000000  200.000000  564.000000    1.000000   \n",
       "\n",
       "          restecg     thalach       exang     oldpeak       slope          ca  \\\n",
       "count  303.000000  303.000000  303.000000  303.000000  303.000000  303.000000   \n",
       "mean     0.528053  149.646865    0.326733    1.039604    1.399340    0.729373   \n",
       "std      0.525860   22.905161    0.469794    1.161075    0.616226    1.022606   \n",
       "min      0.000000   71.000000    0.000000    0.000000    0.000000    0.000000   \n",
       "25%      0.000000  133.500000    0.000000    0.000000    1.000000    0.000000   \n",
       "50%      1.000000  153.000000    0.000000    0.800000    1.000000    0.000000   \n",
       "75%      1.000000  166.000000    1.000000    1.600000    2.000000    1.000000   \n",
       "max      2.000000  202.000000    1.000000    6.200000    2.000000    4.000000   \n",
       "\n",
       "             thal      target  \n",
       "count  303.000000  303.000000  \n",
       "mean     2.313531    0.544554  \n",
       "std      0.612277    0.498835  \n",
       "min      0.000000    0.000000  \n",
       "25%      2.000000    0.000000  \n",
       "50%      2.000000    1.000000  \n",
       "75%      3.000000    1.000000  \n",
       "max      3.000000    1.000000  "
      ]
     },
     "execution_count": 3,
     "metadata": {},
     "output_type": "execute_result"
    }
   ],
   "source": [
    "heart_data.describe()"
   ]
  },
  {
   "cell_type": "code",
   "execution_count": 4,
   "metadata": {
    "colab": {
     "base_uri": "https://localhost:8080/"
    },
    "executionInfo": {
     "elapsed": 28,
     "status": "ok",
     "timestamp": 1653200234314,
     "user": {
      "displayName": "siddhardh selvam",
      "userId": "13966379820454708749"
     },
     "user_tz": -330
    },
    "id": "8nX1tIzbrz0u",
    "outputId": "aed82820-3f95-4fc3-bd5a-21dcbd434fb7"
   },
   "outputs": [
    {
     "data": {
      "text/plain": [
       "(303, 14)"
      ]
     },
     "execution_count": 4,
     "metadata": {},
     "output_type": "execute_result"
    }
   ],
   "source": [
    "# number of rows and columns in the dataset\n",
    "heart_data.shape"
   ]
  },
  {
   "cell_type": "code",
   "execution_count": 5,
   "metadata": {
    "colab": {
     "base_uri": "https://localhost:8080/"
    },
    "executionInfo": {
     "elapsed": 26,
     "status": "ok",
     "timestamp": 1653200234315,
     "user": {
      "displayName": "siddhardh selvam",
      "userId": "13966379820454708749"
     },
     "user_tz": -330
    },
    "id": "7_xTcw1Sr6aJ",
    "outputId": "3dfcf6cf-f814-4b3b-f8be-57e2ea6ea7b2"
   },
   "outputs": [
    {
     "name": "stdout",
     "output_type": "stream",
     "text": [
      "<class 'pandas.core.frame.DataFrame'>\n",
      "RangeIndex: 303 entries, 0 to 302\n",
      "Data columns (total 14 columns):\n",
      " #   Column    Non-Null Count  Dtype  \n",
      "---  ------    --------------  -----  \n",
      " 0   age       303 non-null    int64  \n",
      " 1   sex       303 non-null    int64  \n",
      " 2   cp        303 non-null    int64  \n",
      " 3   trestbps  303 non-null    int64  \n",
      " 4   chol      303 non-null    int64  \n",
      " 5   fbs       303 non-null    int64  \n",
      " 6   restecg   303 non-null    int64  \n",
      " 7   thalach   303 non-null    int64  \n",
      " 8   exang     303 non-null    int64  \n",
      " 9   oldpeak   303 non-null    float64\n",
      " 10  slope     303 non-null    int64  \n",
      " 11  ca        303 non-null    int64  \n",
      " 12  thal      303 non-null    int64  \n",
      " 13  target    303 non-null    int64  \n",
      "dtypes: float64(1), int64(13)\n",
      "memory usage: 33.3 KB\n"
     ]
    }
   ],
   "source": [
    "# getting some info about the data\n",
    "heart_data.info()"
   ]
  },
  {
   "cell_type": "code",
   "execution_count": 6,
   "metadata": {
    "colab": {
     "base_uri": "https://localhost:8080/"
    },
    "executionInfo": {
     "elapsed": 25,
     "status": "ok",
     "timestamp": 1653200234316,
     "user": {
      "displayName": "siddhardh selvam",
      "userId": "13966379820454708749"
     },
     "user_tz": -330
    },
    "id": "GjHtW31rsGlb",
    "outputId": "062af8fa-b836-480d-93dd-b84f335f0839"
   },
   "outputs": [
    {
     "data": {
      "text/plain": [
       "age         0\n",
       "sex         0\n",
       "cp          0\n",
       "trestbps    0\n",
       "chol        0\n",
       "fbs         0\n",
       "restecg     0\n",
       "thalach     0\n",
       "exang       0\n",
       "oldpeak     0\n",
       "slope       0\n",
       "ca          0\n",
       "thal        0\n",
       "target      0\n",
       "dtype: int64"
      ]
     },
     "execution_count": 6,
     "metadata": {},
     "output_type": "execute_result"
    }
   ],
   "source": [
    "# checking for missing values\n",
    "heart_data.isnull().sum()"
   ]
  },
  {
   "cell_type": "code",
   "execution_count": 7,
   "metadata": {
    "colab": {
     "base_uri": "https://localhost:8080/"
    },
    "executionInfo": {
     "elapsed": 24,
     "status": "ok",
     "timestamp": 1653200234318,
     "user": {
      "displayName": "siddhardh selvam",
      "userId": "13966379820454708749"
     },
     "user_tz": -330
    },
    "id": "4InaOSIUsfWP",
    "outputId": "fb25a289-d5e9-438f-d21d-f09474cacbc6"
   },
   "outputs": [
    {
     "data": {
      "text/plain": [
       "target\n",
       "1    165\n",
       "0    138\n",
       "Name: count, dtype: int64"
      ]
     },
     "execution_count": 7,
     "metadata": {},
     "output_type": "execute_result"
    }
   ],
   "source": [
    "# checking the distribution of Target Variable\n",
    "heart_data['target'].value_counts()"
   ]
  },
  {
   "cell_type": "markdown",
   "metadata": {
    "id": "aSOBu4qDtJy5"
   },
   "source": [
    "1 --> Defective Heart\n",
    "\n",
    "0 --> Healthy Heart"
   ]
  },
  {
   "cell_type": "markdown",
   "metadata": {
    "id": "beSkZmpVuvn9"
   },
   "source": [
    "### Model Training"
   ]
  },
  {
   "cell_type": "code",
   "execution_count": 8,
   "metadata": {},
   "outputs": [
    {
     "data": {
      "text/html": [
       "<style type=\"text/css\">\n",
       "</style>\n",
       "<table id=\"T_d69eb\">\n",
       "  <thead>\n",
       "    <tr>\n",
       "      <th class=\"blank level0\" >&nbsp;</th>\n",
       "      <th id=\"T_d69eb_level0_col0\" class=\"col_heading level0 col0\" >Description</th>\n",
       "      <th id=\"T_d69eb_level0_col1\" class=\"col_heading level0 col1\" >Value</th>\n",
       "    </tr>\n",
       "  </thead>\n",
       "  <tbody>\n",
       "    <tr>\n",
       "      <th id=\"T_d69eb_level0_row0\" class=\"row_heading level0 row0\" >0</th>\n",
       "      <td id=\"T_d69eb_row0_col0\" class=\"data row0 col0\" >Session id</td>\n",
       "      <td id=\"T_d69eb_row0_col1\" class=\"data row0 col1\" >2665</td>\n",
       "    </tr>\n",
       "    <tr>\n",
       "      <th id=\"T_d69eb_level0_row1\" class=\"row_heading level0 row1\" >1</th>\n",
       "      <td id=\"T_d69eb_row1_col0\" class=\"data row1 col0\" >Target</td>\n",
       "      <td id=\"T_d69eb_row1_col1\" class=\"data row1 col1\" >target</td>\n",
       "    </tr>\n",
       "    <tr>\n",
       "      <th id=\"T_d69eb_level0_row2\" class=\"row_heading level0 row2\" >2</th>\n",
       "      <td id=\"T_d69eb_row2_col0\" class=\"data row2 col0\" >Target type</td>\n",
       "      <td id=\"T_d69eb_row2_col1\" class=\"data row2 col1\" >Binary</td>\n",
       "    </tr>\n",
       "    <tr>\n",
       "      <th id=\"T_d69eb_level0_row3\" class=\"row_heading level0 row3\" >3</th>\n",
       "      <td id=\"T_d69eb_row3_col0\" class=\"data row3 col0\" >Original data shape</td>\n",
       "      <td id=\"T_d69eb_row3_col1\" class=\"data row3 col1\" >(303, 14)</td>\n",
       "    </tr>\n",
       "    <tr>\n",
       "      <th id=\"T_d69eb_level0_row4\" class=\"row_heading level0 row4\" >4</th>\n",
       "      <td id=\"T_d69eb_row4_col0\" class=\"data row4 col0\" >Transformed data shape</td>\n",
       "      <td id=\"T_d69eb_row4_col1\" class=\"data row4 col1\" >(303, 14)</td>\n",
       "    </tr>\n",
       "    <tr>\n",
       "      <th id=\"T_d69eb_level0_row5\" class=\"row_heading level0 row5\" >5</th>\n",
       "      <td id=\"T_d69eb_row5_col0\" class=\"data row5 col0\" >Transformed train set shape</td>\n",
       "      <td id=\"T_d69eb_row5_col1\" class=\"data row5 col1\" >(212, 14)</td>\n",
       "    </tr>\n",
       "    <tr>\n",
       "      <th id=\"T_d69eb_level0_row6\" class=\"row_heading level0 row6\" >6</th>\n",
       "      <td id=\"T_d69eb_row6_col0\" class=\"data row6 col0\" >Transformed test set shape</td>\n",
       "      <td id=\"T_d69eb_row6_col1\" class=\"data row6 col1\" >(91, 14)</td>\n",
       "    </tr>\n",
       "    <tr>\n",
       "      <th id=\"T_d69eb_level0_row7\" class=\"row_heading level0 row7\" >7</th>\n",
       "      <td id=\"T_d69eb_row7_col0\" class=\"data row7 col0\" >Numeric features</td>\n",
       "      <td id=\"T_d69eb_row7_col1\" class=\"data row7 col1\" >13</td>\n",
       "    </tr>\n",
       "    <tr>\n",
       "      <th id=\"T_d69eb_level0_row8\" class=\"row_heading level0 row8\" >8</th>\n",
       "      <td id=\"T_d69eb_row8_col0\" class=\"data row8 col0\" >Preprocess</td>\n",
       "      <td id=\"T_d69eb_row8_col1\" class=\"data row8 col1\" >scale</td>\n",
       "    </tr>\n",
       "    <tr>\n",
       "      <th id=\"T_d69eb_level0_row9\" class=\"row_heading level0 row9\" >9</th>\n",
       "      <td id=\"T_d69eb_row9_col0\" class=\"data row9 col0\" >Imputation type</td>\n",
       "      <td id=\"T_d69eb_row9_col1\" class=\"data row9 col1\" >simple</td>\n",
       "    </tr>\n",
       "    <tr>\n",
       "      <th id=\"T_d69eb_level0_row10\" class=\"row_heading level0 row10\" >10</th>\n",
       "      <td id=\"T_d69eb_row10_col0\" class=\"data row10 col0\" >Numeric imputation</td>\n",
       "      <td id=\"T_d69eb_row10_col1\" class=\"data row10 col1\" >mean</td>\n",
       "    </tr>\n",
       "    <tr>\n",
       "      <th id=\"T_d69eb_level0_row11\" class=\"row_heading level0 row11\" >11</th>\n",
       "      <td id=\"T_d69eb_row11_col0\" class=\"data row11 col0\" >Categorical imputation</td>\n",
       "      <td id=\"T_d69eb_row11_col1\" class=\"data row11 col1\" >mode</td>\n",
       "    </tr>\n",
       "    <tr>\n",
       "      <th id=\"T_d69eb_level0_row12\" class=\"row_heading level0 row12\" >12</th>\n",
       "      <td id=\"T_d69eb_row12_col0\" class=\"data row12 col0\" >Fold Generator</td>\n",
       "      <td id=\"T_d69eb_row12_col1\" class=\"data row12 col1\" >StratifiedKFold</td>\n",
       "    </tr>\n",
       "    <tr>\n",
       "      <th id=\"T_d69eb_level0_row13\" class=\"row_heading level0 row13\" >13</th>\n",
       "      <td id=\"T_d69eb_row13_col0\" class=\"data row13 col0\" >Fold Number</td>\n",
       "      <td id=\"T_d69eb_row13_col1\" class=\"data row13 col1\" >10</td>\n",
       "    </tr>\n",
       "    <tr>\n",
       "      <th id=\"T_d69eb_level0_row14\" class=\"row_heading level0 row14\" >14</th>\n",
       "      <td id=\"T_d69eb_row14_col0\" class=\"data row14 col0\" >CPU Jobs</td>\n",
       "      <td id=\"T_d69eb_row14_col1\" class=\"data row14 col1\" >-1</td>\n",
       "    </tr>\n",
       "    <tr>\n",
       "      <th id=\"T_d69eb_level0_row15\" class=\"row_heading level0 row15\" >15</th>\n",
       "      <td id=\"T_d69eb_row15_col0\" class=\"data row15 col0\" >Use GPU</td>\n",
       "      <td id=\"T_d69eb_row15_col1\" class=\"data row15 col1\" >False</td>\n",
       "    </tr>\n",
       "    <tr>\n",
       "      <th id=\"T_d69eb_level0_row16\" class=\"row_heading level0 row16\" >16</th>\n",
       "      <td id=\"T_d69eb_row16_col0\" class=\"data row16 col0\" >Log Experiment</td>\n",
       "      <td id=\"T_d69eb_row16_col1\" class=\"data row16 col1\" >False</td>\n",
       "    </tr>\n",
       "    <tr>\n",
       "      <th id=\"T_d69eb_level0_row17\" class=\"row_heading level0 row17\" >17</th>\n",
       "      <td id=\"T_d69eb_row17_col0\" class=\"data row17 col0\" >Experiment Name</td>\n",
       "      <td id=\"T_d69eb_row17_col1\" class=\"data row17 col1\" >clf-default-name</td>\n",
       "    </tr>\n",
       "    <tr>\n",
       "      <th id=\"T_d69eb_level0_row18\" class=\"row_heading level0 row18\" >18</th>\n",
       "      <td id=\"T_d69eb_row18_col0\" class=\"data row18 col0\" >USI</td>\n",
       "      <td id=\"T_d69eb_row18_col1\" class=\"data row18 col1\" >e461</td>\n",
       "    </tr>\n",
       "  </tbody>\n",
       "</table>\n"
      ],
      "text/plain": [
       "<pandas.io.formats.style.Styler at 0x158fd4710>"
      ]
     },
     "metadata": {},
     "output_type": "display_data"
    }
   ],
   "source": [
    "from pycaret.classification import *\n",
    "\n",
    "# Set up the classification experiment\n",
    "clf_setup = setup(data=heart_data, target='target', preprocess='scale')"
   ]
  },
  {
   "cell_type": "markdown",
   "metadata": {},
   "source": [
    "#### Base Model"
   ]
  },
  {
   "cell_type": "markdown",
   "metadata": {},
   "source": [
    "Looking for the best base model"
   ]
  },
  {
   "cell_type": "code",
   "execution_count": 9,
   "metadata": {},
   "outputs": [
    {
     "data": {
      "text/html": [],
      "text/plain": [
       "<IPython.core.display.HTML object>"
      ]
     },
     "metadata": {},
     "output_type": "display_data"
    },
    {
     "data": {
      "text/html": [
       "<style type=\"text/css\">\n",
       "#T_d27a9 th {\n",
       "  text-align: left;\n",
       "}\n",
       "#T_d27a9_row0_col0, #T_d27a9_row0_col2, #T_d27a9_row0_col3, #T_d27a9_row0_col4, #T_d27a9_row1_col0, #T_d27a9_row1_col1, #T_d27a9_row1_col2, #T_d27a9_row1_col3, #T_d27a9_row1_col5, #T_d27a9_row1_col6, #T_d27a9_row1_col7, #T_d27a9_row2_col0, #T_d27a9_row2_col1, #T_d27a9_row2_col2, #T_d27a9_row2_col3, #T_d27a9_row2_col4, #T_d27a9_row2_col5, #T_d27a9_row2_col6, #T_d27a9_row2_col7, #T_d27a9_row3_col0, #T_d27a9_row3_col1, #T_d27a9_row3_col2, #T_d27a9_row3_col3, #T_d27a9_row3_col4, #T_d27a9_row3_col5, #T_d27a9_row3_col6, #T_d27a9_row3_col7, #T_d27a9_row4_col0, #T_d27a9_row4_col1, #T_d27a9_row4_col2, #T_d27a9_row4_col3, #T_d27a9_row4_col4, #T_d27a9_row4_col5, #T_d27a9_row4_col6, #T_d27a9_row4_col7, #T_d27a9_row5_col0, #T_d27a9_row5_col1, #T_d27a9_row5_col3, #T_d27a9_row5_col4, #T_d27a9_row5_col5, #T_d27a9_row5_col6, #T_d27a9_row5_col7, #T_d27a9_row6_col0, #T_d27a9_row6_col1, #T_d27a9_row6_col2, #T_d27a9_row6_col3, #T_d27a9_row6_col4, #T_d27a9_row6_col5, #T_d27a9_row6_col6, #T_d27a9_row6_col7, #T_d27a9_row7_col0, #T_d27a9_row7_col1, #T_d27a9_row7_col2, #T_d27a9_row7_col3, #T_d27a9_row7_col4, #T_d27a9_row7_col5, #T_d27a9_row7_col6, #T_d27a9_row7_col7, #T_d27a9_row8_col0, #T_d27a9_row8_col1, #T_d27a9_row8_col2, #T_d27a9_row8_col3, #T_d27a9_row8_col4, #T_d27a9_row8_col5, #T_d27a9_row8_col6, #T_d27a9_row8_col7, #T_d27a9_row9_col0, #T_d27a9_row9_col1, #T_d27a9_row9_col2, #T_d27a9_row9_col3, #T_d27a9_row9_col4, #T_d27a9_row9_col5, #T_d27a9_row9_col6, #T_d27a9_row9_col7, #T_d27a9_row10_col0, #T_d27a9_row10_col1, #T_d27a9_row10_col2, #T_d27a9_row10_col3, #T_d27a9_row10_col4, #T_d27a9_row10_col5, #T_d27a9_row10_col6, #T_d27a9_row10_col7, #T_d27a9_row11_col0, #T_d27a9_row11_col1, #T_d27a9_row11_col2, #T_d27a9_row11_col3, #T_d27a9_row11_col4, #T_d27a9_row11_col5, #T_d27a9_row11_col6, #T_d27a9_row11_col7, #T_d27a9_row12_col0, #T_d27a9_row12_col1, #T_d27a9_row12_col2, #T_d27a9_row12_col3, #T_d27a9_row12_col4, #T_d27a9_row12_col5, #T_d27a9_row12_col6, #T_d27a9_row12_col7, #T_d27a9_row13_col0, #T_d27a9_row13_col1, #T_d27a9_row13_col2, #T_d27a9_row13_col3, #T_d27a9_row13_col4, #T_d27a9_row13_col5, #T_d27a9_row13_col6, #T_d27a9_row13_col7, #T_d27a9_row14_col0, #T_d27a9_row14_col1, #T_d27a9_row14_col2, #T_d27a9_row14_col4, #T_d27a9_row14_col5, #T_d27a9_row14_col6, #T_d27a9_row14_col7 {\n",
       "  text-align: left;\n",
       "}\n",
       "#T_d27a9_row0_col1, #T_d27a9_row0_col5, #T_d27a9_row0_col6, #T_d27a9_row0_col7, #T_d27a9_row1_col4, #T_d27a9_row5_col2, #T_d27a9_row14_col3 {\n",
       "  text-align: left;\n",
       "  background-color: yellow;\n",
       "}\n",
       "#T_d27a9_row0_col8, #T_d27a9_row1_col8, #T_d27a9_row2_col8, #T_d27a9_row3_col8, #T_d27a9_row5_col8, #T_d27a9_row6_col8, #T_d27a9_row7_col8, #T_d27a9_row8_col8, #T_d27a9_row9_col8, #T_d27a9_row10_col8, #T_d27a9_row11_col8, #T_d27a9_row12_col8, #T_d27a9_row13_col8, #T_d27a9_row14_col8 {\n",
       "  text-align: left;\n",
       "  background-color: lightgrey;\n",
       "}\n",
       "#T_d27a9_row4_col8 {\n",
       "  text-align: left;\n",
       "  background-color: yellow;\n",
       "  background-color: lightgrey;\n",
       "}\n",
       "</style>\n",
       "<table id=\"T_d27a9\">\n",
       "  <thead>\n",
       "    <tr>\n",
       "      <th class=\"blank level0\" >&nbsp;</th>\n",
       "      <th id=\"T_d27a9_level0_col0\" class=\"col_heading level0 col0\" >Model</th>\n",
       "      <th id=\"T_d27a9_level0_col1\" class=\"col_heading level0 col1\" >Accuracy</th>\n",
       "      <th id=\"T_d27a9_level0_col2\" class=\"col_heading level0 col2\" >AUC</th>\n",
       "      <th id=\"T_d27a9_level0_col3\" class=\"col_heading level0 col3\" >Recall</th>\n",
       "      <th id=\"T_d27a9_level0_col4\" class=\"col_heading level0 col4\" >Prec.</th>\n",
       "      <th id=\"T_d27a9_level0_col5\" class=\"col_heading level0 col5\" >F1</th>\n",
       "      <th id=\"T_d27a9_level0_col6\" class=\"col_heading level0 col6\" >Kappa</th>\n",
       "      <th id=\"T_d27a9_level0_col7\" class=\"col_heading level0 col7\" >MCC</th>\n",
       "      <th id=\"T_d27a9_level0_col8\" class=\"col_heading level0 col8\" >TT (Sec)</th>\n",
       "    </tr>\n",
       "  </thead>\n",
       "  <tbody>\n",
       "    <tr>\n",
       "      <th id=\"T_d27a9_level0_row0\" class=\"row_heading level0 row0\" >lr</th>\n",
       "      <td id=\"T_d27a9_row0_col0\" class=\"data row0 col0\" >Logistic Regression</td>\n",
       "      <td id=\"T_d27a9_row0_col1\" class=\"data row0 col1\" >0.8022</td>\n",
       "      <td id=\"T_d27a9_row0_col2\" class=\"data row0 col2\" >0.8541</td>\n",
       "      <td id=\"T_d27a9_row0_col3\" class=\"data row0 col3\" >0.8697</td>\n",
       "      <td id=\"T_d27a9_row0_col4\" class=\"data row0 col4\" >0.7897</td>\n",
       "      <td id=\"T_d27a9_row0_col5\" class=\"data row0 col5\" >0.8254</td>\n",
       "      <td id=\"T_d27a9_row0_col6\" class=\"data row0 col6\" >0.5983</td>\n",
       "      <td id=\"T_d27a9_row0_col7\" class=\"data row0 col7\" >0.6071</td>\n",
       "      <td id=\"T_d27a9_row0_col8\" class=\"data row0 col8\" >0.2520</td>\n",
       "    </tr>\n",
       "    <tr>\n",
       "      <th id=\"T_d27a9_level0_row1\" class=\"row_heading level0 row1\" >xgboost</th>\n",
       "      <td id=\"T_d27a9_row1_col0\" class=\"data row1 col0\" >Extreme Gradient Boosting</td>\n",
       "      <td id=\"T_d27a9_row1_col1\" class=\"data row1 col1\" >0.7874</td>\n",
       "      <td id=\"T_d27a9_row1_col2\" class=\"data row1 col2\" >0.8518</td>\n",
       "      <td id=\"T_d27a9_row1_col3\" class=\"data row1 col3\" >0.8258</td>\n",
       "      <td id=\"T_d27a9_row1_col4\" class=\"data row1 col4\" >0.7990</td>\n",
       "      <td id=\"T_d27a9_row1_col5\" class=\"data row1 col5\" >0.8085</td>\n",
       "      <td id=\"T_d27a9_row1_col6\" class=\"data row1 col6\" >0.5691</td>\n",
       "      <td id=\"T_d27a9_row1_col7\" class=\"data row1 col7\" >0.5766</td>\n",
       "      <td id=\"T_d27a9_row1_col8\" class=\"data row1 col8\" >0.0100</td>\n",
       "    </tr>\n",
       "    <tr>\n",
       "      <th id=\"T_d27a9_level0_row2\" class=\"row_heading level0 row2\" >ridge</th>\n",
       "      <td id=\"T_d27a9_row2_col0\" class=\"data row2 col0\" >Ridge Classifier</td>\n",
       "      <td id=\"T_d27a9_row2_col1\" class=\"data row2 col1\" >0.7831</td>\n",
       "      <td id=\"T_d27a9_row2_col2\" class=\"data row2 col2\" >0.0000</td>\n",
       "      <td id=\"T_d27a9_row2_col3\" class=\"data row2 col3\" >0.8697</td>\n",
       "      <td id=\"T_d27a9_row2_col4\" class=\"data row2 col4\" >0.7678</td>\n",
       "      <td id=\"T_d27a9_row2_col5\" class=\"data row2 col5\" >0.8126</td>\n",
       "      <td id=\"T_d27a9_row2_col6\" class=\"data row2 col6\" >0.5581</td>\n",
       "      <td id=\"T_d27a9_row2_col7\" class=\"data row2 col7\" >0.5708</td>\n",
       "      <td id=\"T_d27a9_row2_col8\" class=\"data row2 col8\" >0.0040</td>\n",
       "    </tr>\n",
       "    <tr>\n",
       "      <th id=\"T_d27a9_level0_row3\" class=\"row_heading level0 row3\" >lda</th>\n",
       "      <td id=\"T_d27a9_row3_col0\" class=\"data row3 col0\" >Linear Discriminant Analysis</td>\n",
       "      <td id=\"T_d27a9_row3_col1\" class=\"data row3 col1\" >0.7831</td>\n",
       "      <td id=\"T_d27a9_row3_col2\" class=\"data row3 col2\" >0.8597</td>\n",
       "      <td id=\"T_d27a9_row3_col3\" class=\"data row3 col3\" >0.8697</td>\n",
       "      <td id=\"T_d27a9_row3_col4\" class=\"data row3 col4\" >0.7678</td>\n",
       "      <td id=\"T_d27a9_row3_col5\" class=\"data row3 col5\" >0.8126</td>\n",
       "      <td id=\"T_d27a9_row3_col6\" class=\"data row3 col6\" >0.5581</td>\n",
       "      <td id=\"T_d27a9_row3_col7\" class=\"data row3 col7\" >0.5708</td>\n",
       "      <td id=\"T_d27a9_row3_col8\" class=\"data row3 col8\" >0.0040</td>\n",
       "    </tr>\n",
       "    <tr>\n",
       "      <th id=\"T_d27a9_level0_row4\" class=\"row_heading level0 row4\" >nb</th>\n",
       "      <td id=\"T_d27a9_row4_col0\" class=\"data row4 col0\" >Naive Bayes</td>\n",
       "      <td id=\"T_d27a9_row4_col1\" class=\"data row4 col1\" >0.7734</td>\n",
       "      <td id=\"T_d27a9_row4_col2\" class=\"data row4 col2\" >0.8603</td>\n",
       "      <td id=\"T_d27a9_row4_col3\" class=\"data row4 col3\" >0.8280</td>\n",
       "      <td id=\"T_d27a9_row4_col4\" class=\"data row4 col4\" >0.7769</td>\n",
       "      <td id=\"T_d27a9_row4_col5\" class=\"data row4 col5\" >0.7990</td>\n",
       "      <td id=\"T_d27a9_row4_col6\" class=\"data row4 col6\" >0.5414</td>\n",
       "      <td id=\"T_d27a9_row4_col7\" class=\"data row4 col7\" >0.5471</td>\n",
       "      <td id=\"T_d27a9_row4_col8\" class=\"data row4 col8\" >0.0030</td>\n",
       "    </tr>\n",
       "    <tr>\n",
       "      <th id=\"T_d27a9_level0_row5\" class=\"row_heading level0 row5\" >et</th>\n",
       "      <td id=\"T_d27a9_row5_col0\" class=\"data row5 col0\" >Extra Trees Classifier</td>\n",
       "      <td id=\"T_d27a9_row5_col1\" class=\"data row5 col1\" >0.7690</td>\n",
       "      <td id=\"T_d27a9_row5_col2\" class=\"data row5 col2\" >0.8768</td>\n",
       "      <td id=\"T_d27a9_row5_col3\" class=\"data row5 col3\" >0.7917</td>\n",
       "      <td id=\"T_d27a9_row5_col4\" class=\"data row5 col4\" >0.7932</td>\n",
       "      <td id=\"T_d27a9_row5_col5\" class=\"data row5 col5\" >0.7868</td>\n",
       "      <td id=\"T_d27a9_row5_col6\" class=\"data row5 col6\" >0.5340</td>\n",
       "      <td id=\"T_d27a9_row5_col7\" class=\"data row5 col7\" >0.5434</td>\n",
       "      <td id=\"T_d27a9_row5_col8\" class=\"data row5 col8\" >0.0200</td>\n",
       "    </tr>\n",
       "    <tr>\n",
       "      <th id=\"T_d27a9_level0_row6\" class=\"row_heading level0 row6\" >rf</th>\n",
       "      <td id=\"T_d27a9_row6_col0\" class=\"data row6 col0\" >Random Forest Classifier</td>\n",
       "      <td id=\"T_d27a9_row6_col1\" class=\"data row6 col1\" >0.7639</td>\n",
       "      <td id=\"T_d27a9_row6_col2\" class=\"data row6 col2\" >0.8716</td>\n",
       "      <td id=\"T_d27a9_row6_col3\" class=\"data row6 col3\" >0.8091</td>\n",
       "      <td id=\"T_d27a9_row6_col4\" class=\"data row6 col4\" >0.7792</td>\n",
       "      <td id=\"T_d27a9_row6_col5\" class=\"data row6 col5\" >0.7863</td>\n",
       "      <td id=\"T_d27a9_row6_col6\" class=\"data row6 col6\" >0.5232</td>\n",
       "      <td id=\"T_d27a9_row6_col7\" class=\"data row6 col7\" >0.5374</td>\n",
       "      <td id=\"T_d27a9_row6_col8\" class=\"data row6 col8\" >0.0230</td>\n",
       "    </tr>\n",
       "    <tr>\n",
       "      <th id=\"T_d27a9_level0_row7\" class=\"row_heading level0 row7\" >lightgbm</th>\n",
       "      <td id=\"T_d27a9_row7_col0\" class=\"data row7 col0\" >Light Gradient Boosting Machine</td>\n",
       "      <td id=\"T_d27a9_row7_col1\" class=\"data row7 col1\" >0.7543</td>\n",
       "      <td id=\"T_d27a9_row7_col2\" class=\"data row7 col2\" >0.8665</td>\n",
       "      <td id=\"T_d27a9_row7_col3\" class=\"data row7 col3\" >0.7909</td>\n",
       "      <td id=\"T_d27a9_row7_col4\" class=\"data row7 col4\" >0.7672</td>\n",
       "      <td id=\"T_d27a9_row7_col5\" class=\"data row7 col5\" >0.7761</td>\n",
       "      <td id=\"T_d27a9_row7_col6\" class=\"data row7 col6\" >0.5035</td>\n",
       "      <td id=\"T_d27a9_row7_col7\" class=\"data row7 col7\" >0.5089</td>\n",
       "      <td id=\"T_d27a9_row7_col8\" class=\"data row7 col8\" >0.0770</td>\n",
       "    </tr>\n",
       "    <tr>\n",
       "      <th id=\"T_d27a9_level0_row8\" class=\"row_heading level0 row8\" >qda</th>\n",
       "      <td id=\"T_d27a9_row8_col0\" class=\"data row8 col0\" >Quadratic Discriminant Analysis</td>\n",
       "      <td id=\"T_d27a9_row8_col1\" class=\"data row8 col1\" >0.7500</td>\n",
       "      <td id=\"T_d27a9_row8_col2\" class=\"data row8 col2\" >0.8431</td>\n",
       "      <td id=\"T_d27a9_row8_col3\" class=\"data row8 col3\" >0.7508</td>\n",
       "      <td id=\"T_d27a9_row8_col4\" class=\"data row8 col4\" >0.7826</td>\n",
       "      <td id=\"T_d27a9_row8_col5\" class=\"data row8 col5\" >0.7599</td>\n",
       "      <td id=\"T_d27a9_row8_col6\" class=\"data row8 col6\" >0.5014</td>\n",
       "      <td id=\"T_d27a9_row8_col7\" class=\"data row8 col7\" >0.5090</td>\n",
       "      <td id=\"T_d27a9_row8_col8\" class=\"data row8 col8\" >0.0040</td>\n",
       "    </tr>\n",
       "    <tr>\n",
       "      <th id=\"T_d27a9_level0_row9\" class=\"row_heading level0 row9\" >ada</th>\n",
       "      <td id=\"T_d27a9_row9_col0\" class=\"data row9 col0\" >Ada Boost Classifier</td>\n",
       "      <td id=\"T_d27a9_row9_col1\" class=\"data row9 col1\" >0.7400</td>\n",
       "      <td id=\"T_d27a9_row9_col2\" class=\"data row9 col2\" >0.7998</td>\n",
       "      <td id=\"T_d27a9_row9_col3\" class=\"data row9 col3\" >0.8083</td>\n",
       "      <td id=\"T_d27a9_row9_col4\" class=\"data row9 col4\" >0.7500</td>\n",
       "      <td id=\"T_d27a9_row9_col5\" class=\"data row9 col5\" >0.7741</td>\n",
       "      <td id=\"T_d27a9_row9_col6\" class=\"data row9 col6\" >0.4704</td>\n",
       "      <td id=\"T_d27a9_row9_col7\" class=\"data row9 col7\" >0.4781</td>\n",
       "      <td id=\"T_d27a9_row9_col8\" class=\"data row9 col8\" >0.0110</td>\n",
       "    </tr>\n",
       "    <tr>\n",
       "      <th id=\"T_d27a9_level0_row10\" class=\"row_heading level0 row10\" >gbc</th>\n",
       "      <td id=\"T_d27a9_row10_col0\" class=\"data row10 col0\" >Gradient Boosting Classifier</td>\n",
       "      <td id=\"T_d27a9_row10_col1\" class=\"data row10 col1\" >0.7260</td>\n",
       "      <td id=\"T_d27a9_row10_col2\" class=\"data row10 col2\" >0.8536</td>\n",
       "      <td id=\"T_d27a9_row10_col3\" class=\"data row10 col3\" >0.7121</td>\n",
       "      <td id=\"T_d27a9_row10_col4\" class=\"data row10 col4\" >0.7778</td>\n",
       "      <td id=\"T_d27a9_row10_col5\" class=\"data row10 col5\" >0.7353</td>\n",
       "      <td id=\"T_d27a9_row10_col6\" class=\"data row10 col6\" >0.4522</td>\n",
       "      <td id=\"T_d27a9_row10_col7\" class=\"data row10 col7\" >0.4623</td>\n",
       "      <td id=\"T_d27a9_row10_col8\" class=\"data row10 col8\" >0.0140</td>\n",
       "    </tr>\n",
       "    <tr>\n",
       "      <th id=\"T_d27a9_level0_row11\" class=\"row_heading level0 row11\" >dt</th>\n",
       "      <td id=\"T_d27a9_row11_col0\" class=\"data row11 col0\" >Decision Tree Classifier</td>\n",
       "      <td id=\"T_d27a9_row11_col1\" class=\"data row11 col1\" >0.6877</td>\n",
       "      <td id=\"T_d27a9_row11_col2\" class=\"data row11 col2\" >0.6839</td>\n",
       "      <td id=\"T_d27a9_row11_col3\" class=\"data row11 col3\" >0.7311</td>\n",
       "      <td id=\"T_d27a9_row11_col4\" class=\"data row11 col4\" >0.7107</td>\n",
       "      <td id=\"T_d27a9_row11_col5\" class=\"data row11 col5\" >0.7180</td>\n",
       "      <td id=\"T_d27a9_row11_col6\" class=\"data row11 col6\" >0.3677</td>\n",
       "      <td id=\"T_d27a9_row11_col7\" class=\"data row11 col7\" >0.3719</td>\n",
       "      <td id=\"T_d27a9_row11_col8\" class=\"data row11 col8\" >0.0050</td>\n",
       "    </tr>\n",
       "    <tr>\n",
       "      <th id=\"T_d27a9_level0_row12\" class=\"row_heading level0 row12\" >knn</th>\n",
       "      <td id=\"T_d27a9_row12_col0\" class=\"data row12 col0\" >K Neighbors Classifier</td>\n",
       "      <td id=\"T_d27a9_row12_col1\" class=\"data row12 col1\" >0.6130</td>\n",
       "      <td id=\"T_d27a9_row12_col2\" class=\"data row12 col2\" >0.6599</td>\n",
       "      <td id=\"T_d27a9_row12_col3\" class=\"data row12 col3\" >0.6780</td>\n",
       "      <td id=\"T_d27a9_row12_col4\" class=\"data row12 col4\" >0.6369</td>\n",
       "      <td id=\"T_d27a9_row12_col5\" class=\"data row12 col5\" >0.6547</td>\n",
       "      <td id=\"T_d27a9_row12_col6\" class=\"data row12 col6\" >0.2164</td>\n",
       "      <td id=\"T_d27a9_row12_col7\" class=\"data row12 col7\" >0.2186</td>\n",
       "      <td id=\"T_d27a9_row12_col8\" class=\"data row12 col8\" >0.0100</td>\n",
       "    </tr>\n",
       "    <tr>\n",
       "      <th id=\"T_d27a9_level0_row13\" class=\"row_heading level0 row13\" >svm</th>\n",
       "      <td id=\"T_d27a9_row13_col0\" class=\"data row13 col0\" >SVM - Linear Kernel</td>\n",
       "      <td id=\"T_d27a9_row13_col1\" class=\"data row13 col1\" >0.5842</td>\n",
       "      <td id=\"T_d27a9_row13_col2\" class=\"data row13 col2\" >0.0000</td>\n",
       "      <td id=\"T_d27a9_row13_col3\" class=\"data row13 col3\" >0.5500</td>\n",
       "      <td id=\"T_d27a9_row13_col4\" class=\"data row13 col4\" >0.4694</td>\n",
       "      <td id=\"T_d27a9_row13_col5\" class=\"data row13 col5\" >0.4928</td>\n",
       "      <td id=\"T_d27a9_row13_col6\" class=\"data row13 col6\" >0.1873</td>\n",
       "      <td id=\"T_d27a9_row13_col7\" class=\"data row13 col7\" >0.1842</td>\n",
       "      <td id=\"T_d27a9_row13_col8\" class=\"data row13 col8\" >0.0060</td>\n",
       "    </tr>\n",
       "    <tr>\n",
       "      <th id=\"T_d27a9_level0_row14\" class=\"row_heading level0 row14\" >dummy</th>\n",
       "      <td id=\"T_d27a9_row14_col0\" class=\"data row14 col0\" >Dummy Classifier</td>\n",
       "      <td id=\"T_d27a9_row14_col1\" class=\"data row14 col1\" >0.5424</td>\n",
       "      <td id=\"T_d27a9_row14_col2\" class=\"data row14 col2\" >0.5000</td>\n",
       "      <td id=\"T_d27a9_row14_col3\" class=\"data row14 col3\" >1.0000</td>\n",
       "      <td id=\"T_d27a9_row14_col4\" class=\"data row14 col4\" >0.5424</td>\n",
       "      <td id=\"T_d27a9_row14_col5\" class=\"data row14 col5\" >0.7031</td>\n",
       "      <td id=\"T_d27a9_row14_col6\" class=\"data row14 col6\" >0.0000</td>\n",
       "      <td id=\"T_d27a9_row14_col7\" class=\"data row14 col7\" >0.0000</td>\n",
       "      <td id=\"T_d27a9_row14_col8\" class=\"data row14 col8\" >0.0040</td>\n",
       "    </tr>\n",
       "  </tbody>\n",
       "</table>\n"
      ],
      "text/plain": [
       "<pandas.io.formats.style.Styler at 0x15cd71f50>"
      ]
     },
     "metadata": {},
     "output_type": "display_data"
    },
    {
     "data": {
      "application/vnd.jupyter.widget-view+json": {
       "model_id": "",
       "version_major": 2,
       "version_minor": 0
      },
      "text/plain": [
       "Processing:   0%|          | 0/65 [00:00<?, ?it/s]"
      ]
     },
     "metadata": {},
     "output_type": "display_data"
    }
   ],
   "source": [
    "best_model = compare_models()"
   ]
  },
  {
   "cell_type": "markdown",
   "metadata": {},
   "source": [
    "Logistic Regression has the best performance"
   ]
  },
  {
   "cell_type": "code",
   "execution_count": 10,
   "metadata": {},
   "outputs": [
    {
     "data": {
      "text/html": [],
      "text/plain": [
       "<IPython.core.display.HTML object>"
      ]
     },
     "metadata": {},
     "output_type": "display_data"
    },
    {
     "data": {
      "text/html": [
       "<style type=\"text/css\">\n",
       "#T_ab0e1_row10_col0, #T_ab0e1_row10_col1, #T_ab0e1_row10_col2, #T_ab0e1_row10_col3, #T_ab0e1_row10_col4, #T_ab0e1_row10_col5, #T_ab0e1_row10_col6 {\n",
       "  background: yellow;\n",
       "}\n",
       "</style>\n",
       "<table id=\"T_ab0e1\">\n",
       "  <thead>\n",
       "    <tr>\n",
       "      <th class=\"blank level0\" >&nbsp;</th>\n",
       "      <th id=\"T_ab0e1_level0_col0\" class=\"col_heading level0 col0\" >Accuracy</th>\n",
       "      <th id=\"T_ab0e1_level0_col1\" class=\"col_heading level0 col1\" >AUC</th>\n",
       "      <th id=\"T_ab0e1_level0_col2\" class=\"col_heading level0 col2\" >Recall</th>\n",
       "      <th id=\"T_ab0e1_level0_col3\" class=\"col_heading level0 col3\" >Prec.</th>\n",
       "      <th id=\"T_ab0e1_level0_col4\" class=\"col_heading level0 col4\" >F1</th>\n",
       "      <th id=\"T_ab0e1_level0_col5\" class=\"col_heading level0 col5\" >Kappa</th>\n",
       "      <th id=\"T_ab0e1_level0_col6\" class=\"col_heading level0 col6\" >MCC</th>\n",
       "    </tr>\n",
       "    <tr>\n",
       "      <th class=\"index_name level0\" >Fold</th>\n",
       "      <th class=\"blank col0\" >&nbsp;</th>\n",
       "      <th class=\"blank col1\" >&nbsp;</th>\n",
       "      <th class=\"blank col2\" >&nbsp;</th>\n",
       "      <th class=\"blank col3\" >&nbsp;</th>\n",
       "      <th class=\"blank col4\" >&nbsp;</th>\n",
       "      <th class=\"blank col5\" >&nbsp;</th>\n",
       "      <th class=\"blank col6\" >&nbsp;</th>\n",
       "    </tr>\n",
       "  </thead>\n",
       "  <tbody>\n",
       "    <tr>\n",
       "      <th id=\"T_ab0e1_level0_row0\" class=\"row_heading level0 row0\" >0</th>\n",
       "      <td id=\"T_ab0e1_row0_col0\" class=\"data row0 col0\" >0.8182</td>\n",
       "      <td id=\"T_ab0e1_row0_col1\" class=\"data row0 col1\" >0.8667</td>\n",
       "      <td id=\"T_ab0e1_row0_col2\" class=\"data row0 col2\" >0.9167</td>\n",
       "      <td id=\"T_ab0e1_row0_col3\" class=\"data row0 col3\" >0.7857</td>\n",
       "      <td id=\"T_ab0e1_row0_col4\" class=\"data row0 col4\" >0.8462</td>\n",
       "      <td id=\"T_ab0e1_row0_col5\" class=\"data row0 col5\" >0.6271</td>\n",
       "      <td id=\"T_ab0e1_row0_col6\" class=\"data row0 col6\" >0.6383</td>\n",
       "    </tr>\n",
       "    <tr>\n",
       "      <th id=\"T_ab0e1_level0_row1\" class=\"row_heading level0 row1\" >1</th>\n",
       "      <td id=\"T_ab0e1_row1_col0\" class=\"data row1 col0\" >0.7273</td>\n",
       "      <td id=\"T_ab0e1_row1_col1\" class=\"data row1 col1\" >0.8250</td>\n",
       "      <td id=\"T_ab0e1_row1_col2\" class=\"data row1 col2\" >0.7500</td>\n",
       "      <td id=\"T_ab0e1_row1_col3\" class=\"data row1 col3\" >0.7500</td>\n",
       "      <td id=\"T_ab0e1_row1_col4\" class=\"data row1 col4\" >0.7500</td>\n",
       "      <td id=\"T_ab0e1_row1_col5\" class=\"data row1 col5\" >0.4500</td>\n",
       "      <td id=\"T_ab0e1_row1_col6\" class=\"data row1 col6\" >0.4500</td>\n",
       "    </tr>\n",
       "    <tr>\n",
       "      <th id=\"T_ab0e1_level0_row2\" class=\"row_heading level0 row2\" >2</th>\n",
       "      <td id=\"T_ab0e1_row2_col0\" class=\"data row2 col0\" >0.8095</td>\n",
       "      <td id=\"T_ab0e1_row2_col1\" class=\"data row2 col1\" >0.8519</td>\n",
       "      <td id=\"T_ab0e1_row2_col2\" class=\"data row2 col2\" >0.8333</td>\n",
       "      <td id=\"T_ab0e1_row2_col3\" class=\"data row2 col3\" >0.8333</td>\n",
       "      <td id=\"T_ab0e1_row2_col4\" class=\"data row2 col4\" >0.8333</td>\n",
       "      <td id=\"T_ab0e1_row2_col5\" class=\"data row2 col5\" >0.6111</td>\n",
       "      <td id=\"T_ab0e1_row2_col6\" class=\"data row2 col6\" >0.6111</td>\n",
       "    </tr>\n",
       "    <tr>\n",
       "      <th id=\"T_ab0e1_level0_row3\" class=\"row_heading level0 row3\" >3</th>\n",
       "      <td id=\"T_ab0e1_row3_col0\" class=\"data row3 col0\" >0.9048</td>\n",
       "      <td id=\"T_ab0e1_row3_col1\" class=\"data row3 col1\" >0.9537</td>\n",
       "      <td id=\"T_ab0e1_row3_col2\" class=\"data row3 col2\" >1.0000</td>\n",
       "      <td id=\"T_ab0e1_row3_col3\" class=\"data row3 col3\" >0.8571</td>\n",
       "      <td id=\"T_ab0e1_row3_col4\" class=\"data row3 col4\" >0.9231</td>\n",
       "      <td id=\"T_ab0e1_row3_col5\" class=\"data row3 col5\" >0.8000</td>\n",
       "      <td id=\"T_ab0e1_row3_col6\" class=\"data row3 col6\" >0.8165</td>\n",
       "    </tr>\n",
       "    <tr>\n",
       "      <th id=\"T_ab0e1_level0_row4\" class=\"row_heading level0 row4\" >4</th>\n",
       "      <td id=\"T_ab0e1_row4_col0\" class=\"data row4 col0\" >0.8095</td>\n",
       "      <td id=\"T_ab0e1_row4_col1\" class=\"data row4 col1\" >0.9167</td>\n",
       "      <td id=\"T_ab0e1_row4_col2\" class=\"data row4 col2\" >0.8333</td>\n",
       "      <td id=\"T_ab0e1_row4_col3\" class=\"data row4 col3\" >0.8333</td>\n",
       "      <td id=\"T_ab0e1_row4_col4\" class=\"data row4 col4\" >0.8333</td>\n",
       "      <td id=\"T_ab0e1_row4_col5\" class=\"data row4 col5\" >0.6111</td>\n",
       "      <td id=\"T_ab0e1_row4_col6\" class=\"data row4 col6\" >0.6111</td>\n",
       "    </tr>\n",
       "    <tr>\n",
       "      <th id=\"T_ab0e1_level0_row5\" class=\"row_heading level0 row5\" >5</th>\n",
       "      <td id=\"T_ab0e1_row5_col0\" class=\"data row5 col0\" >0.7143</td>\n",
       "      <td id=\"T_ab0e1_row5_col1\" class=\"data row5 col1\" >0.7636</td>\n",
       "      <td id=\"T_ab0e1_row5_col2\" class=\"data row5 col2\" >0.8182</td>\n",
       "      <td id=\"T_ab0e1_row5_col3\" class=\"data row5 col3\" >0.6923</td>\n",
       "      <td id=\"T_ab0e1_row5_col4\" class=\"data row5 col4\" >0.7500</td>\n",
       "      <td id=\"T_ab0e1_row5_col5\" class=\"data row5 col5\" >0.4220</td>\n",
       "      <td id=\"T_ab0e1_row5_col6\" class=\"data row5 col6\" >0.4301</td>\n",
       "    </tr>\n",
       "    <tr>\n",
       "      <th id=\"T_ab0e1_level0_row6\" class=\"row_heading level0 row6\" >6</th>\n",
       "      <td id=\"T_ab0e1_row6_col0\" class=\"data row6 col0\" >0.9524</td>\n",
       "      <td id=\"T_ab0e1_row6_col1\" class=\"data row6 col1\" >0.9636</td>\n",
       "      <td id=\"T_ab0e1_row6_col2\" class=\"data row6 col2\" >1.0000</td>\n",
       "      <td id=\"T_ab0e1_row6_col3\" class=\"data row6 col3\" >0.9167</td>\n",
       "      <td id=\"T_ab0e1_row6_col4\" class=\"data row6 col4\" >0.9565</td>\n",
       "      <td id=\"T_ab0e1_row6_col5\" class=\"data row6 col5\" >0.9041</td>\n",
       "      <td id=\"T_ab0e1_row6_col6\" class=\"data row6 col6\" >0.9083</td>\n",
       "    </tr>\n",
       "    <tr>\n",
       "      <th id=\"T_ab0e1_level0_row7\" class=\"row_heading level0 row7\" >7</th>\n",
       "      <td id=\"T_ab0e1_row7_col0\" class=\"data row7 col0\" >0.7619</td>\n",
       "      <td id=\"T_ab0e1_row7_col1\" class=\"data row7 col1\" >0.7909</td>\n",
       "      <td id=\"T_ab0e1_row7_col2\" class=\"data row7 col2\" >0.9091</td>\n",
       "      <td id=\"T_ab0e1_row7_col3\" class=\"data row7 col3\" >0.7143</td>\n",
       "      <td id=\"T_ab0e1_row7_col4\" class=\"data row7 col4\" >0.8000</td>\n",
       "      <td id=\"T_ab0e1_row7_col5\" class=\"data row7 col5\" >0.5161</td>\n",
       "      <td id=\"T_ab0e1_row7_col6\" class=\"data row7 col6\" >0.5394</td>\n",
       "    </tr>\n",
       "    <tr>\n",
       "      <th id=\"T_ab0e1_level0_row8\" class=\"row_heading level0 row8\" >8</th>\n",
       "      <td id=\"T_ab0e1_row8_col0\" class=\"data row8 col0\" >0.7619</td>\n",
       "      <td id=\"T_ab0e1_row8_col1\" class=\"data row8 col1\" >0.7909</td>\n",
       "      <td id=\"T_ab0e1_row8_col2\" class=\"data row8 col2\" >0.7273</td>\n",
       "      <td id=\"T_ab0e1_row8_col3\" class=\"data row8 col3\" >0.8000</td>\n",
       "      <td id=\"T_ab0e1_row8_col4\" class=\"data row8 col4\" >0.7619</td>\n",
       "      <td id=\"T_ab0e1_row8_col5\" class=\"data row8 col5\" >0.5249</td>\n",
       "      <td id=\"T_ab0e1_row8_col6\" class=\"data row8 col6\" >0.5273</td>\n",
       "    </tr>\n",
       "    <tr>\n",
       "      <th id=\"T_ab0e1_level0_row9\" class=\"row_heading level0 row9\" >9</th>\n",
       "      <td id=\"T_ab0e1_row9_col0\" class=\"data row9 col0\" >0.7619</td>\n",
       "      <td id=\"T_ab0e1_row9_col1\" class=\"data row9 col1\" >0.8182</td>\n",
       "      <td id=\"T_ab0e1_row9_col2\" class=\"data row9 col2\" >0.9091</td>\n",
       "      <td id=\"T_ab0e1_row9_col3\" class=\"data row9 col3\" >0.7143</td>\n",
       "      <td id=\"T_ab0e1_row9_col4\" class=\"data row9 col4\" >0.8000</td>\n",
       "      <td id=\"T_ab0e1_row9_col5\" class=\"data row9 col5\" >0.5161</td>\n",
       "      <td id=\"T_ab0e1_row9_col6\" class=\"data row9 col6\" >0.5394</td>\n",
       "    </tr>\n",
       "    <tr>\n",
       "      <th id=\"T_ab0e1_level0_row10\" class=\"row_heading level0 row10\" >Mean</th>\n",
       "      <td id=\"T_ab0e1_row10_col0\" class=\"data row10 col0\" >0.8022</td>\n",
       "      <td id=\"T_ab0e1_row10_col1\" class=\"data row10 col1\" >0.8541</td>\n",
       "      <td id=\"T_ab0e1_row10_col2\" class=\"data row10 col2\" >0.8697</td>\n",
       "      <td id=\"T_ab0e1_row10_col3\" class=\"data row10 col3\" >0.7897</td>\n",
       "      <td id=\"T_ab0e1_row10_col4\" class=\"data row10 col4\" >0.8254</td>\n",
       "      <td id=\"T_ab0e1_row10_col5\" class=\"data row10 col5\" >0.5983</td>\n",
       "      <td id=\"T_ab0e1_row10_col6\" class=\"data row10 col6\" >0.6071</td>\n",
       "    </tr>\n",
       "    <tr>\n",
       "      <th id=\"T_ab0e1_level0_row11\" class=\"row_heading level0 row11\" >Std</th>\n",
       "      <td id=\"T_ab0e1_row11_col0\" class=\"data row11 col0\" >0.0719</td>\n",
       "      <td id=\"T_ab0e1_row11_col1\" class=\"data row11 col1\" >0.0666</td>\n",
       "      <td id=\"T_ab0e1_row11_col2\" class=\"data row11 col2\" >0.0890</td>\n",
       "      <td id=\"T_ab0e1_row11_col3\" class=\"data row11 col3\" >0.0686</td>\n",
       "      <td id=\"T_ab0e1_row11_col4\" class=\"data row11 col4\" >0.0663</td>\n",
       "      <td id=\"T_ab0e1_row11_col5\" class=\"data row11 col5\" >0.1440</td>\n",
       "      <td id=\"T_ab0e1_row11_col6\" class=\"data row11 col6\" >0.1439</td>\n",
       "    </tr>\n",
       "  </tbody>\n",
       "</table>\n"
      ],
      "text/plain": [
       "<pandas.io.formats.style.Styler at 0x1476dfed0>"
      ]
     },
     "metadata": {},
     "output_type": "display_data"
    },
    {
     "data": {
      "application/vnd.jupyter.widget-view+json": {
       "model_id": "",
       "version_major": 2,
       "version_minor": 0
      },
      "text/plain": [
       "Processing:   0%|          | 0/4 [00:00<?, ?it/s]"
      ]
     },
     "metadata": {},
     "output_type": "display_data"
    }
   ],
   "source": [
    "lr = create_model('lr')"
   ]
  },
  {
   "cell_type": "markdown",
   "metadata": {},
   "source": [
    "#### Bagging"
   ]
  },
  {
   "cell_type": "code",
   "execution_count": 11,
   "metadata": {},
   "outputs": [
    {
     "data": {
      "text/html": [],
      "text/plain": [
       "<IPython.core.display.HTML object>"
      ]
     },
     "metadata": {},
     "output_type": "display_data"
    },
    {
     "data": {
      "text/html": [
       "<style type=\"text/css\">\n",
       "#T_710fd_row10_col0, #T_710fd_row10_col1, #T_710fd_row10_col2, #T_710fd_row10_col3, #T_710fd_row10_col4, #T_710fd_row10_col5, #T_710fd_row10_col6 {\n",
       "  background: yellow;\n",
       "}\n",
       "</style>\n",
       "<table id=\"T_710fd\">\n",
       "  <thead>\n",
       "    <tr>\n",
       "      <th class=\"blank level0\" >&nbsp;</th>\n",
       "      <th id=\"T_710fd_level0_col0\" class=\"col_heading level0 col0\" >Accuracy</th>\n",
       "      <th id=\"T_710fd_level0_col1\" class=\"col_heading level0 col1\" >AUC</th>\n",
       "      <th id=\"T_710fd_level0_col2\" class=\"col_heading level0 col2\" >Recall</th>\n",
       "      <th id=\"T_710fd_level0_col3\" class=\"col_heading level0 col3\" >Prec.</th>\n",
       "      <th id=\"T_710fd_level0_col4\" class=\"col_heading level0 col4\" >F1</th>\n",
       "      <th id=\"T_710fd_level0_col5\" class=\"col_heading level0 col5\" >Kappa</th>\n",
       "      <th id=\"T_710fd_level0_col6\" class=\"col_heading level0 col6\" >MCC</th>\n",
       "    </tr>\n",
       "    <tr>\n",
       "      <th class=\"index_name level0\" >Fold</th>\n",
       "      <th class=\"blank col0\" >&nbsp;</th>\n",
       "      <th class=\"blank col1\" >&nbsp;</th>\n",
       "      <th class=\"blank col2\" >&nbsp;</th>\n",
       "      <th class=\"blank col3\" >&nbsp;</th>\n",
       "      <th class=\"blank col4\" >&nbsp;</th>\n",
       "      <th class=\"blank col5\" >&nbsp;</th>\n",
       "      <th class=\"blank col6\" >&nbsp;</th>\n",
       "    </tr>\n",
       "  </thead>\n",
       "  <tbody>\n",
       "    <tr>\n",
       "      <th id=\"T_710fd_level0_row0\" class=\"row_heading level0 row0\" >0</th>\n",
       "      <td id=\"T_710fd_row0_col0\" class=\"data row0 col0\" >0.8182</td>\n",
       "      <td id=\"T_710fd_row0_col1\" class=\"data row0 col1\" >0.8833</td>\n",
       "      <td id=\"T_710fd_row0_col2\" class=\"data row0 col2\" >0.9167</td>\n",
       "      <td id=\"T_710fd_row0_col3\" class=\"data row0 col3\" >0.7857</td>\n",
       "      <td id=\"T_710fd_row0_col4\" class=\"data row0 col4\" >0.8462</td>\n",
       "      <td id=\"T_710fd_row0_col5\" class=\"data row0 col5\" >0.6271</td>\n",
       "      <td id=\"T_710fd_row0_col6\" class=\"data row0 col6\" >0.6383</td>\n",
       "    </tr>\n",
       "    <tr>\n",
       "      <th id=\"T_710fd_level0_row1\" class=\"row_heading level0 row1\" >1</th>\n",
       "      <td id=\"T_710fd_row1_col0\" class=\"data row1 col0\" >0.7727</td>\n",
       "      <td id=\"T_710fd_row1_col1\" class=\"data row1 col1\" >0.8500</td>\n",
       "      <td id=\"T_710fd_row1_col2\" class=\"data row1 col2\" >0.8333</td>\n",
       "      <td id=\"T_710fd_row1_col3\" class=\"data row1 col3\" >0.7692</td>\n",
       "      <td id=\"T_710fd_row1_col4\" class=\"data row1 col4\" >0.8000</td>\n",
       "      <td id=\"T_710fd_row1_col5\" class=\"data row1 col5\" >0.5378</td>\n",
       "      <td id=\"T_710fd_row1_col6\" class=\"data row1 col6\" >0.5401</td>\n",
       "    </tr>\n",
       "    <tr>\n",
       "      <th id=\"T_710fd_level0_row2\" class=\"row_heading level0 row2\" >2</th>\n",
       "      <td id=\"T_710fd_row2_col0\" class=\"data row2 col0\" >0.8571</td>\n",
       "      <td id=\"T_710fd_row2_col1\" class=\"data row2 col1\" >0.8796</td>\n",
       "      <td id=\"T_710fd_row2_col2\" class=\"data row2 col2\" >0.9167</td>\n",
       "      <td id=\"T_710fd_row2_col3\" class=\"data row2 col3\" >0.8462</td>\n",
       "      <td id=\"T_710fd_row2_col4\" class=\"data row2 col4\" >0.8800</td>\n",
       "      <td id=\"T_710fd_row2_col5\" class=\"data row2 col5\" >0.7042</td>\n",
       "      <td id=\"T_710fd_row2_col6\" class=\"data row2 col6\" >0.7077</td>\n",
       "    </tr>\n",
       "    <tr>\n",
       "      <th id=\"T_710fd_level0_row3\" class=\"row_heading level0 row3\" >3</th>\n",
       "      <td id=\"T_710fd_row3_col0\" class=\"data row3 col0\" >0.8095</td>\n",
       "      <td id=\"T_710fd_row3_col1\" class=\"data row3 col1\" >0.9352</td>\n",
       "      <td id=\"T_710fd_row3_col2\" class=\"data row3 col2\" >1.0000</td>\n",
       "      <td id=\"T_710fd_row3_col3\" class=\"data row3 col3\" >0.7500</td>\n",
       "      <td id=\"T_710fd_row3_col4\" class=\"data row3 col4\" >0.8571</td>\n",
       "      <td id=\"T_710fd_row3_col5\" class=\"data row3 col5\" >0.5882</td>\n",
       "      <td id=\"T_710fd_row3_col6\" class=\"data row3 col6\" >0.6455</td>\n",
       "    </tr>\n",
       "    <tr>\n",
       "      <th id=\"T_710fd_level0_row4\" class=\"row_heading level0 row4\" >4</th>\n",
       "      <td id=\"T_710fd_row4_col0\" class=\"data row4 col0\" >0.7619</td>\n",
       "      <td id=\"T_710fd_row4_col1\" class=\"data row4 col1\" >0.9167</td>\n",
       "      <td id=\"T_710fd_row4_col2\" class=\"data row4 col2\" >0.7500</td>\n",
       "      <td id=\"T_710fd_row4_col3\" class=\"data row4 col3\" >0.8182</td>\n",
       "      <td id=\"T_710fd_row4_col4\" class=\"data row4 col4\" >0.7826</td>\n",
       "      <td id=\"T_710fd_row4_col5\" class=\"data row4 col5\" >0.5205</td>\n",
       "      <td id=\"T_710fd_row4_col6\" class=\"data row4 col6\" >0.5230</td>\n",
       "    </tr>\n",
       "    <tr>\n",
       "      <th id=\"T_710fd_level0_row5\" class=\"row_heading level0 row5\" >5</th>\n",
       "      <td id=\"T_710fd_row5_col0\" class=\"data row5 col0\" >0.7143</td>\n",
       "      <td id=\"T_710fd_row5_col1\" class=\"data row5 col1\" >0.7545</td>\n",
       "      <td id=\"T_710fd_row5_col2\" class=\"data row5 col2\" >0.8182</td>\n",
       "      <td id=\"T_710fd_row5_col3\" class=\"data row5 col3\" >0.6923</td>\n",
       "      <td id=\"T_710fd_row5_col4\" class=\"data row5 col4\" >0.7500</td>\n",
       "      <td id=\"T_710fd_row5_col5\" class=\"data row5 col5\" >0.4220</td>\n",
       "      <td id=\"T_710fd_row5_col6\" class=\"data row5 col6\" >0.4301</td>\n",
       "    </tr>\n",
       "    <tr>\n",
       "      <th id=\"T_710fd_level0_row6\" class=\"row_heading level0 row6\" >6</th>\n",
       "      <td id=\"T_710fd_row6_col0\" class=\"data row6 col0\" >0.9524</td>\n",
       "      <td id=\"T_710fd_row6_col1\" class=\"data row6 col1\" >0.9727</td>\n",
       "      <td id=\"T_710fd_row6_col2\" class=\"data row6 col2\" >1.0000</td>\n",
       "      <td id=\"T_710fd_row6_col3\" class=\"data row6 col3\" >0.9167</td>\n",
       "      <td id=\"T_710fd_row6_col4\" class=\"data row6 col4\" >0.9565</td>\n",
       "      <td id=\"T_710fd_row6_col5\" class=\"data row6 col5\" >0.9041</td>\n",
       "      <td id=\"T_710fd_row6_col6\" class=\"data row6 col6\" >0.9083</td>\n",
       "    </tr>\n",
       "    <tr>\n",
       "      <th id=\"T_710fd_level0_row7\" class=\"row_heading level0 row7\" >7</th>\n",
       "      <td id=\"T_710fd_row7_col0\" class=\"data row7 col0\" >0.7143</td>\n",
       "      <td id=\"T_710fd_row7_col1\" class=\"data row7 col1\" >0.7727</td>\n",
       "      <td id=\"T_710fd_row7_col2\" class=\"data row7 col2\" >0.9091</td>\n",
       "      <td id=\"T_710fd_row7_col3\" class=\"data row7 col3\" >0.6667</td>\n",
       "      <td id=\"T_710fd_row7_col4\" class=\"data row7 col4\" >0.7692</td>\n",
       "      <td id=\"T_710fd_row7_col5\" class=\"data row7 col5\" >0.4167</td>\n",
       "      <td id=\"T_710fd_row7_col6\" class=\"data row7 col6\" >0.4523</td>\n",
       "    </tr>\n",
       "    <tr>\n",
       "      <th id=\"T_710fd_level0_row8\" class=\"row_heading level0 row8\" >8</th>\n",
       "      <td id=\"T_710fd_row8_col0\" class=\"data row8 col0\" >0.7143</td>\n",
       "      <td id=\"T_710fd_row8_col1\" class=\"data row8 col1\" >0.7909</td>\n",
       "      <td id=\"T_710fd_row8_col2\" class=\"data row8 col2\" >0.7273</td>\n",
       "      <td id=\"T_710fd_row8_col3\" class=\"data row8 col3\" >0.7273</td>\n",
       "      <td id=\"T_710fd_row8_col4\" class=\"data row8 col4\" >0.7273</td>\n",
       "      <td id=\"T_710fd_row8_col5\" class=\"data row8 col5\" >0.4273</td>\n",
       "      <td id=\"T_710fd_row8_col6\" class=\"data row8 col6\" >0.4273</td>\n",
       "    </tr>\n",
       "    <tr>\n",
       "      <th id=\"T_710fd_level0_row9\" class=\"row_heading level0 row9\" >9</th>\n",
       "      <td id=\"T_710fd_row9_col0\" class=\"data row9 col0\" >0.7619</td>\n",
       "      <td id=\"T_710fd_row9_col1\" class=\"data row9 col1\" >0.8182</td>\n",
       "      <td id=\"T_710fd_row9_col2\" class=\"data row9 col2\" >0.9091</td>\n",
       "      <td id=\"T_710fd_row9_col3\" class=\"data row9 col3\" >0.7143</td>\n",
       "      <td id=\"T_710fd_row9_col4\" class=\"data row9 col4\" >0.8000</td>\n",
       "      <td id=\"T_710fd_row9_col5\" class=\"data row9 col5\" >0.5161</td>\n",
       "      <td id=\"T_710fd_row9_col6\" class=\"data row9 col6\" >0.5394</td>\n",
       "    </tr>\n",
       "    <tr>\n",
       "      <th id=\"T_710fd_level0_row10\" class=\"row_heading level0 row10\" >Mean</th>\n",
       "      <td id=\"T_710fd_row10_col0\" class=\"data row10 col0\" >0.7877</td>\n",
       "      <td id=\"T_710fd_row10_col1\" class=\"data row10 col1\" >0.8574</td>\n",
       "      <td id=\"T_710fd_row10_col2\" class=\"data row10 col2\" >0.8780</td>\n",
       "      <td id=\"T_710fd_row10_col3\" class=\"data row10 col3\" >0.7686</td>\n",
       "      <td id=\"T_710fd_row10_col4\" class=\"data row10 col4\" >0.8169</td>\n",
       "      <td id=\"T_710fd_row10_col5\" class=\"data row10 col5\" >0.5664</td>\n",
       "      <td id=\"T_710fd_row10_col6\" class=\"data row10 col6\" >0.5812</td>\n",
       "    </tr>\n",
       "    <tr>\n",
       "      <th id=\"T_710fd_level0_row11\" class=\"row_heading level0 row11\" >Std</th>\n",
       "      <td id=\"T_710fd_row11_col0\" class=\"data row11 col0\" >0.0715</td>\n",
       "      <td id=\"T_710fd_row11_col1\" class=\"data row11 col1\" >0.0691</td>\n",
       "      <td id=\"T_710fd_row11_col2\" class=\"data row11 col2\" >0.0891</td>\n",
       "      <td id=\"T_710fd_row11_col3\" class=\"data row11 col3\" >0.0720</td>\n",
       "      <td id=\"T_710fd_row11_col4\" class=\"data row11 col4\" >0.0652</td>\n",
       "      <td id=\"T_710fd_row11_col5\" class=\"data row11 col5\" >0.1433</td>\n",
       "      <td id=\"T_710fd_row11_col6\" class=\"data row11 col6\" >0.1416</td>\n",
       "    </tr>\n",
       "  </tbody>\n",
       "</table>\n"
      ],
      "text/plain": [
       "<pandas.io.formats.style.Styler at 0x15a61c550>"
      ]
     },
     "metadata": {},
     "output_type": "display_data"
    },
    {
     "data": {
      "application/vnd.jupyter.widget-view+json": {
       "model_id": "",
       "version_major": 2,
       "version_minor": 0
      },
      "text/plain": [
       "Processing:   0%|          | 0/6 [00:00<?, ?it/s]"
      ]
     },
     "metadata": {},
     "output_type": "display_data"
    }
   ],
   "source": [
    "bagged_lr = ensemble_model(lr, method = 'Bagging')"
   ]
  },
  {
   "cell_type": "markdown",
   "metadata": {},
   "source": [
    "#### Evaluation"
   ]
  },
  {
   "cell_type": "markdown",
   "metadata": {},
   "source": [
    "Predicting Label and Score (probability of predicted class) using the trained model on the holdout set."
   ]
  },
  {
   "cell_type": "code",
   "execution_count": 12,
   "metadata": {},
   "outputs": [
    {
     "data": {
      "text/html": [
       "<style type=\"text/css\">\n",
       "</style>\n",
       "<table id=\"T_39a82\">\n",
       "  <thead>\n",
       "    <tr>\n",
       "      <th class=\"blank level0\" >&nbsp;</th>\n",
       "      <th id=\"T_39a82_level0_col0\" class=\"col_heading level0 col0\" >Model</th>\n",
       "      <th id=\"T_39a82_level0_col1\" class=\"col_heading level0 col1\" >Accuracy</th>\n",
       "      <th id=\"T_39a82_level0_col2\" class=\"col_heading level0 col2\" >AUC</th>\n",
       "      <th id=\"T_39a82_level0_col3\" class=\"col_heading level0 col3\" >Recall</th>\n",
       "      <th id=\"T_39a82_level0_col4\" class=\"col_heading level0 col4\" >Prec.</th>\n",
       "      <th id=\"T_39a82_level0_col5\" class=\"col_heading level0 col5\" >F1</th>\n",
       "      <th id=\"T_39a82_level0_col6\" class=\"col_heading level0 col6\" >Kappa</th>\n",
       "      <th id=\"T_39a82_level0_col7\" class=\"col_heading level0 col7\" >MCC</th>\n",
       "    </tr>\n",
       "  </thead>\n",
       "  <tbody>\n",
       "    <tr>\n",
       "      <th id=\"T_39a82_level0_row0\" class=\"row_heading level0 row0\" >0</th>\n",
       "      <td id=\"T_39a82_row0_col0\" class=\"data row0 col0\" >Logistic Regression</td>\n",
       "      <td id=\"T_39a82_row0_col1\" class=\"data row0 col1\" >0.9011</td>\n",
       "      <td id=\"T_39a82_row0_col2\" class=\"data row0 col2\" >0.9712</td>\n",
       "      <td id=\"T_39a82_row0_col3\" class=\"data row0 col3\" >0.9200</td>\n",
       "      <td id=\"T_39a82_row0_col4\" class=\"data row0 col4\" >0.9020</td>\n",
       "      <td id=\"T_39a82_row0_col5\" class=\"data row0 col5\" >0.9109</td>\n",
       "      <td id=\"T_39a82_row0_col6\" class=\"data row0 col6\" >0.7998</td>\n",
       "      <td id=\"T_39a82_row0_col7\" class=\"data row0 col7\" >0.8000</td>\n",
       "    </tr>\n",
       "  </tbody>\n",
       "</table>\n"
      ],
      "text/plain": [
       "<pandas.io.formats.style.Styler at 0x15c4f5c10>"
      ]
     },
     "metadata": {},
     "output_type": "display_data"
    }
   ],
   "source": [
    "pred_holdout = predict_model(bagged_lr)"
   ]
  },
  {
   "cell_type": "markdown",
   "metadata": {},
   "source": [
    "#### Calibrating\n",
    "This function calibrates the probability of a given estimator using Platt’s method or ‘isotonic’ (which is a non-parametric approach). The output of this function is a score grid with CV scores by fold."
   ]
  },
  {
   "cell_type": "code",
   "execution_count": 13,
   "metadata": {},
   "outputs": [
    {
     "data": {
      "text/html": [],
      "text/plain": [
       "<IPython.core.display.HTML object>"
      ]
     },
     "metadata": {},
     "output_type": "display_data"
    },
    {
     "data": {
      "text/html": [
       "<style type=\"text/css\">\n",
       "#T_73c51_row10_col0, #T_73c51_row10_col1, #T_73c51_row10_col2, #T_73c51_row10_col3, #T_73c51_row10_col4, #T_73c51_row10_col5, #T_73c51_row10_col6 {\n",
       "  background: yellow;\n",
       "}\n",
       "</style>\n",
       "<table id=\"T_73c51\">\n",
       "  <thead>\n",
       "    <tr>\n",
       "      <th class=\"blank level0\" >&nbsp;</th>\n",
       "      <th id=\"T_73c51_level0_col0\" class=\"col_heading level0 col0\" >Accuracy</th>\n",
       "      <th id=\"T_73c51_level0_col1\" class=\"col_heading level0 col1\" >AUC</th>\n",
       "      <th id=\"T_73c51_level0_col2\" class=\"col_heading level0 col2\" >Recall</th>\n",
       "      <th id=\"T_73c51_level0_col3\" class=\"col_heading level0 col3\" >Prec.</th>\n",
       "      <th id=\"T_73c51_level0_col4\" class=\"col_heading level0 col4\" >F1</th>\n",
       "      <th id=\"T_73c51_level0_col5\" class=\"col_heading level0 col5\" >Kappa</th>\n",
       "      <th id=\"T_73c51_level0_col6\" class=\"col_heading level0 col6\" >MCC</th>\n",
       "    </tr>\n",
       "    <tr>\n",
       "      <th class=\"index_name level0\" >Fold</th>\n",
       "      <th class=\"blank col0\" >&nbsp;</th>\n",
       "      <th class=\"blank col1\" >&nbsp;</th>\n",
       "      <th class=\"blank col2\" >&nbsp;</th>\n",
       "      <th class=\"blank col3\" >&nbsp;</th>\n",
       "      <th class=\"blank col4\" >&nbsp;</th>\n",
       "      <th class=\"blank col5\" >&nbsp;</th>\n",
       "      <th class=\"blank col6\" >&nbsp;</th>\n",
       "    </tr>\n",
       "  </thead>\n",
       "  <tbody>\n",
       "    <tr>\n",
       "      <th id=\"T_73c51_level0_row0\" class=\"row_heading level0 row0\" >0</th>\n",
       "      <td id=\"T_73c51_row0_col0\" class=\"data row0 col0\" >0.8182</td>\n",
       "      <td id=\"T_73c51_row0_col1\" class=\"data row0 col1\" >0.8667</td>\n",
       "      <td id=\"T_73c51_row0_col2\" class=\"data row0 col2\" >0.9167</td>\n",
       "      <td id=\"T_73c51_row0_col3\" class=\"data row0 col3\" >0.7857</td>\n",
       "      <td id=\"T_73c51_row0_col4\" class=\"data row0 col4\" >0.8462</td>\n",
       "      <td id=\"T_73c51_row0_col5\" class=\"data row0 col5\" >0.6271</td>\n",
       "      <td id=\"T_73c51_row0_col6\" class=\"data row0 col6\" >0.6383</td>\n",
       "    </tr>\n",
       "    <tr>\n",
       "      <th id=\"T_73c51_level0_row1\" class=\"row_heading level0 row1\" >1</th>\n",
       "      <td id=\"T_73c51_row1_col0\" class=\"data row1 col0\" >0.7727</td>\n",
       "      <td id=\"T_73c51_row1_col1\" class=\"data row1 col1\" >0.8167</td>\n",
       "      <td id=\"T_73c51_row1_col2\" class=\"data row1 col2\" >0.8333</td>\n",
       "      <td id=\"T_73c51_row1_col3\" class=\"data row1 col3\" >0.7692</td>\n",
       "      <td id=\"T_73c51_row1_col4\" class=\"data row1 col4\" >0.8000</td>\n",
       "      <td id=\"T_73c51_row1_col5\" class=\"data row1 col5\" >0.5378</td>\n",
       "      <td id=\"T_73c51_row1_col6\" class=\"data row1 col6\" >0.5401</td>\n",
       "    </tr>\n",
       "    <tr>\n",
       "      <th id=\"T_73c51_level0_row2\" class=\"row_heading level0 row2\" >2</th>\n",
       "      <td id=\"T_73c51_row2_col0\" class=\"data row2 col0\" >0.9048</td>\n",
       "      <td id=\"T_73c51_row2_col1\" class=\"data row2 col1\" >0.8704</td>\n",
       "      <td id=\"T_73c51_row2_col2\" class=\"data row2 col2\" >1.0000</td>\n",
       "      <td id=\"T_73c51_row2_col3\" class=\"data row2 col3\" >0.8571</td>\n",
       "      <td id=\"T_73c51_row2_col4\" class=\"data row2 col4\" >0.9231</td>\n",
       "      <td id=\"T_73c51_row2_col5\" class=\"data row2 col5\" >0.8000</td>\n",
       "      <td id=\"T_73c51_row2_col6\" class=\"data row2 col6\" >0.8165</td>\n",
       "    </tr>\n",
       "    <tr>\n",
       "      <th id=\"T_73c51_level0_row3\" class=\"row_heading level0 row3\" >3</th>\n",
       "      <td id=\"T_73c51_row3_col0\" class=\"data row3 col0\" >0.8095</td>\n",
       "      <td id=\"T_73c51_row3_col1\" class=\"data row3 col1\" >0.9537</td>\n",
       "      <td id=\"T_73c51_row3_col2\" class=\"data row3 col2\" >1.0000</td>\n",
       "      <td id=\"T_73c51_row3_col3\" class=\"data row3 col3\" >0.7500</td>\n",
       "      <td id=\"T_73c51_row3_col4\" class=\"data row3 col4\" >0.8571</td>\n",
       "      <td id=\"T_73c51_row3_col5\" class=\"data row3 col5\" >0.5882</td>\n",
       "      <td id=\"T_73c51_row3_col6\" class=\"data row3 col6\" >0.6455</td>\n",
       "    </tr>\n",
       "    <tr>\n",
       "      <th id=\"T_73c51_level0_row4\" class=\"row_heading level0 row4\" >4</th>\n",
       "      <td id=\"T_73c51_row4_col0\" class=\"data row4 col0\" >0.8095</td>\n",
       "      <td id=\"T_73c51_row4_col1\" class=\"data row4 col1\" >0.9074</td>\n",
       "      <td id=\"T_73c51_row4_col2\" class=\"data row4 col2\" >0.8333</td>\n",
       "      <td id=\"T_73c51_row4_col3\" class=\"data row4 col3\" >0.8333</td>\n",
       "      <td id=\"T_73c51_row4_col4\" class=\"data row4 col4\" >0.8333</td>\n",
       "      <td id=\"T_73c51_row4_col5\" class=\"data row4 col5\" >0.6111</td>\n",
       "      <td id=\"T_73c51_row4_col6\" class=\"data row4 col6\" >0.6111</td>\n",
       "    </tr>\n",
       "    <tr>\n",
       "      <th id=\"T_73c51_level0_row5\" class=\"row_heading level0 row5\" >5</th>\n",
       "      <td id=\"T_73c51_row5_col0\" class=\"data row5 col0\" >0.7143</td>\n",
       "      <td id=\"T_73c51_row5_col1\" class=\"data row5 col1\" >0.7455</td>\n",
       "      <td id=\"T_73c51_row5_col2\" class=\"data row5 col2\" >0.8182</td>\n",
       "      <td id=\"T_73c51_row5_col3\" class=\"data row5 col3\" >0.6923</td>\n",
       "      <td id=\"T_73c51_row5_col4\" class=\"data row5 col4\" >0.7500</td>\n",
       "      <td id=\"T_73c51_row5_col5\" class=\"data row5 col5\" >0.4220</td>\n",
       "      <td id=\"T_73c51_row5_col6\" class=\"data row5 col6\" >0.4301</td>\n",
       "    </tr>\n",
       "    <tr>\n",
       "      <th id=\"T_73c51_level0_row6\" class=\"row_heading level0 row6\" >6</th>\n",
       "      <td id=\"T_73c51_row6_col0\" class=\"data row6 col0\" >0.9524</td>\n",
       "      <td id=\"T_73c51_row6_col1\" class=\"data row6 col1\" >0.9636</td>\n",
       "      <td id=\"T_73c51_row6_col2\" class=\"data row6 col2\" >1.0000</td>\n",
       "      <td id=\"T_73c51_row6_col3\" class=\"data row6 col3\" >0.9167</td>\n",
       "      <td id=\"T_73c51_row6_col4\" class=\"data row6 col4\" >0.9565</td>\n",
       "      <td id=\"T_73c51_row6_col5\" class=\"data row6 col5\" >0.9041</td>\n",
       "      <td id=\"T_73c51_row6_col6\" class=\"data row6 col6\" >0.9083</td>\n",
       "    </tr>\n",
       "    <tr>\n",
       "      <th id=\"T_73c51_level0_row7\" class=\"row_heading level0 row7\" >7</th>\n",
       "      <td id=\"T_73c51_row7_col0\" class=\"data row7 col0\" >0.8095</td>\n",
       "      <td id=\"T_73c51_row7_col1\" class=\"data row7 col1\" >0.7818</td>\n",
       "      <td id=\"T_73c51_row7_col2\" class=\"data row7 col2\" >1.0000</td>\n",
       "      <td id=\"T_73c51_row7_col3\" class=\"data row7 col3\" >0.7333</td>\n",
       "      <td id=\"T_73c51_row7_col4\" class=\"data row7 col4\" >0.8462</td>\n",
       "      <td id=\"T_73c51_row7_col5\" class=\"data row7 col5\" >0.6111</td>\n",
       "      <td id=\"T_73c51_row7_col6\" class=\"data row7 col6\" >0.6633</td>\n",
       "    </tr>\n",
       "    <tr>\n",
       "      <th id=\"T_73c51_level0_row8\" class=\"row_heading level0 row8\" >8</th>\n",
       "      <td id=\"T_73c51_row8_col0\" class=\"data row8 col0\" >0.7619</td>\n",
       "      <td id=\"T_73c51_row8_col1\" class=\"data row8 col1\" >0.7909</td>\n",
       "      <td id=\"T_73c51_row8_col2\" class=\"data row8 col2\" >0.7273</td>\n",
       "      <td id=\"T_73c51_row8_col3\" class=\"data row8 col3\" >0.8000</td>\n",
       "      <td id=\"T_73c51_row8_col4\" class=\"data row8 col4\" >0.7619</td>\n",
       "      <td id=\"T_73c51_row8_col5\" class=\"data row8 col5\" >0.5249</td>\n",
       "      <td id=\"T_73c51_row8_col6\" class=\"data row8 col6\" >0.5273</td>\n",
       "    </tr>\n",
       "    <tr>\n",
       "      <th id=\"T_73c51_level0_row9\" class=\"row_heading level0 row9\" >9</th>\n",
       "      <td id=\"T_73c51_row9_col0\" class=\"data row9 col0\" >0.7619</td>\n",
       "      <td id=\"T_73c51_row9_col1\" class=\"data row9 col1\" >0.8273</td>\n",
       "      <td id=\"T_73c51_row9_col2\" class=\"data row9 col2\" >0.9091</td>\n",
       "      <td id=\"T_73c51_row9_col3\" class=\"data row9 col3\" >0.7143</td>\n",
       "      <td id=\"T_73c51_row9_col4\" class=\"data row9 col4\" >0.8000</td>\n",
       "      <td id=\"T_73c51_row9_col5\" class=\"data row9 col5\" >0.5161</td>\n",
       "      <td id=\"T_73c51_row9_col6\" class=\"data row9 col6\" >0.5394</td>\n",
       "    </tr>\n",
       "    <tr>\n",
       "      <th id=\"T_73c51_level0_row10\" class=\"row_heading level0 row10\" >Mean</th>\n",
       "      <td id=\"T_73c51_row10_col0\" class=\"data row10 col0\" >0.8115</td>\n",
       "      <td id=\"T_73c51_row10_col1\" class=\"data row10 col1\" >0.8524</td>\n",
       "      <td id=\"T_73c51_row10_col2\" class=\"data row10 col2\" >0.9038</td>\n",
       "      <td id=\"T_73c51_row10_col3\" class=\"data row10 col3\" >0.7852</td>\n",
       "      <td id=\"T_73c51_row10_col4\" class=\"data row10 col4\" >0.8374</td>\n",
       "      <td id=\"T_73c51_row10_col5\" class=\"data row10 col5\" >0.6143</td>\n",
       "      <td id=\"T_73c51_row10_col6\" class=\"data row10 col6\" >0.6320</td>\n",
       "    </tr>\n",
       "    <tr>\n",
       "      <th id=\"T_73c51_level0_row11\" class=\"row_heading level0 row11\" >Std</th>\n",
       "      <td id=\"T_73c51_row11_col0\" class=\"data row11 col0\" >0.0667</td>\n",
       "      <td id=\"T_73c51_row11_col1\" class=\"data row11 col1\" >0.0695</td>\n",
       "      <td id=\"T_73c51_row11_col2\" class=\"data row11 col2\" >0.0925</td>\n",
       "      <td id=\"T_73c51_row11_col3\" class=\"data row11 col3\" >0.0655</td>\n",
       "      <td id=\"T_73c51_row11_col4\" class=\"data row11 col4\" >0.0618</td>\n",
       "      <td id=\"T_73c51_row11_col5\" class=\"data row11 col5\" >0.1341</td>\n",
       "      <td id=\"T_73c51_row11_col6\" class=\"data row11 col6\" >0.1345</td>\n",
       "    </tr>\n",
       "  </tbody>\n",
       "</table>\n"
      ],
      "text/plain": [
       "<pandas.io.formats.style.Styler at 0x15c4f5350>"
      ]
     },
     "metadata": {},
     "output_type": "display_data"
    },
    {
     "data": {
      "application/vnd.jupyter.widget-view+json": {
       "model_id": "",
       "version_major": 2,
       "version_minor": 0
      },
      "text/plain": [
       "Processing:   0%|          | 0/6 [00:00<?, ?it/s]"
      ]
     },
     "metadata": {},
     "output_type": "display_data"
    }
   ],
   "source": [
    "calibrated_model = calibrate_model(bagged_lr)"
   ]
  },
  {
   "cell_type": "code",
   "execution_count": 14,
   "metadata": {},
   "outputs": [
    {
     "data": {
      "text/html": [
       "<style type=\"text/css\">\n",
       "</style>\n",
       "<table id=\"T_24c67\">\n",
       "  <thead>\n",
       "    <tr>\n",
       "      <th class=\"blank level0\" >&nbsp;</th>\n",
       "      <th id=\"T_24c67_level0_col0\" class=\"col_heading level0 col0\" >Model</th>\n",
       "      <th id=\"T_24c67_level0_col1\" class=\"col_heading level0 col1\" >Accuracy</th>\n",
       "      <th id=\"T_24c67_level0_col2\" class=\"col_heading level0 col2\" >AUC</th>\n",
       "      <th id=\"T_24c67_level0_col3\" class=\"col_heading level0 col3\" >Recall</th>\n",
       "      <th id=\"T_24c67_level0_col4\" class=\"col_heading level0 col4\" >Prec.</th>\n",
       "      <th id=\"T_24c67_level0_col5\" class=\"col_heading level0 col5\" >F1</th>\n",
       "      <th id=\"T_24c67_level0_col6\" class=\"col_heading level0 col6\" >Kappa</th>\n",
       "      <th id=\"T_24c67_level0_col7\" class=\"col_heading level0 col7\" >MCC</th>\n",
       "    </tr>\n",
       "  </thead>\n",
       "  <tbody>\n",
       "    <tr>\n",
       "      <th id=\"T_24c67_level0_row0\" class=\"row_heading level0 row0\" >0</th>\n",
       "      <td id=\"T_24c67_row0_col0\" class=\"data row0 col0\" >Logistic Regression</td>\n",
       "      <td id=\"T_24c67_row0_col1\" class=\"data row0 col1\" >0.9011</td>\n",
       "      <td id=\"T_24c67_row0_col2\" class=\"data row0 col2\" >0.9741</td>\n",
       "      <td id=\"T_24c67_row0_col3\" class=\"data row0 col3\" >0.9200</td>\n",
       "      <td id=\"T_24c67_row0_col4\" class=\"data row0 col4\" >0.9020</td>\n",
       "      <td id=\"T_24c67_row0_col5\" class=\"data row0 col5\" >0.9109</td>\n",
       "      <td id=\"T_24c67_row0_col6\" class=\"data row0 col6\" >0.7998</td>\n",
       "      <td id=\"T_24c67_row0_col7\" class=\"data row0 col7\" >0.8000</td>\n",
       "    </tr>\n",
       "  </tbody>\n",
       "</table>\n"
      ],
      "text/plain": [
       "<pandas.io.formats.style.Styler at 0x15c598f50>"
      ]
     },
     "metadata": {},
     "output_type": "display_data"
    }
   ],
   "source": [
    "pred = predict_model(calibrated_model)"
   ]
  },
  {
   "cell_type": "markdown",
   "metadata": {
    "id": "FCHCMHpshHU4"
   },
   "source": [
    "### Saving the trained model"
   ]
  },
  {
   "cell_type": "code",
   "execution_count": 15,
   "metadata": {
    "executionInfo": {
     "elapsed": 11,
     "status": "ok",
     "timestamp": 1653200234910,
     "user": {
      "displayName": "siddhardh selvam",
      "userId": "13966379820454708749"
     },
     "user_tz": -330
    },
    "id": "cdmTOR4MhHCB"
   },
   "outputs": [],
   "source": [
    "import pickle"
   ]
  },
  {
   "cell_type": "code",
   "execution_count": 16,
   "metadata": {
    "executionInfo": {
     "elapsed": 10,
     "status": "ok",
     "timestamp": 1653200234910,
     "user": {
      "displayName": "siddhardh selvam",
      "userId": "13966379820454708749"
     },
     "user_tz": -330
    },
    "id": "4gN09lokhKuZ"
   },
   "outputs": [],
   "source": [
    "filename = 'heart_disease_model.sav'\n",
    "pickle.dump(calibrated_model, open(filename, 'wb'))"
   ]
  }
 ],
 "metadata": {
  "colab": {
   "authorship_tag": "ABX9TyNkEJ4hIKtyX260ZMlxNVm4",
   "name": "Multiple disease prediction system - heart.ipynb",
   "provenance": []
  },
  "kernelspec": {
   "display_name": "Python 3 (ipykernel)",
   "language": "python",
   "name": "python3"
  },
  "language_info": {
   "codemirror_mode": {
    "name": "ipython",
    "version": 3
   },
   "file_extension": ".py",
   "mimetype": "text/x-python",
   "name": "python",
   "nbconvert_exporter": "python",
   "pygments_lexer": "ipython3",
   "version": "3.11.7"
  }
 },
 "nbformat": 4,
 "nbformat_minor": 4
}
