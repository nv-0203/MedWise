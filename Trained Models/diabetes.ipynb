{
 "cells": [
  {
   "cell_type": "markdown",
   "metadata": {
    "id": "bmfOfG8joBBy"
   },
   "source": [
    "### Data Collection and Analysis\n",
    "Dataset collected from kagle\n",
    "#### PIMA Diabetes Dataset"
   ]
  },
  {
   "cell_type": "code",
   "execution_count": 1,
   "metadata": {
    "executionInfo": {
     "elapsed": 37,
     "status": "ok",
     "timestamp": 1653200161039,
     "user": {
      "displayName": "siddhardh selvam",
      "userId": "13966379820454708749"
     },
     "user_tz": -330
    },
    "id": "Xpw6Mj_pn_TL"
   },
   "outputs": [],
   "source": [
    "import pandas as pd\n",
    "# loading the diabetes dataset to a pandas DataFrame\n",
    "diabetes_dataset = pd.read_csv('diabetes.csv') "
   ]
  },
  {
   "cell_type": "code",
   "execution_count": 2,
   "metadata": {
    "colab": {
     "base_uri": "https://localhost:8080/",
     "height": 206
    },
    "executionInfo": {
     "elapsed": 36,
     "status": "ok",
     "timestamp": 1653200161040,
     "user": {
      "displayName": "siddhardh selvam",
      "userId": "13966379820454708749"
     },
     "user_tz": -330
    },
    "id": "-tjO09ncovoh",
    "outputId": "f4faaf8a-3fc8-413a-bbd4-bb272589a73c"
   },
   "outputs": [
    {
     "data": {
      "text/html": [
       "<div>\n",
       "<style scoped>\n",
       "    .dataframe tbody tr th:only-of-type {\n",
       "        vertical-align: middle;\n",
       "    }\n",
       "\n",
       "    .dataframe tbody tr th {\n",
       "        vertical-align: top;\n",
       "    }\n",
       "\n",
       "    .dataframe thead th {\n",
       "        text-align: right;\n",
       "    }\n",
       "</style>\n",
       "<table border=\"1\" class=\"dataframe\">\n",
       "  <thead>\n",
       "    <tr style=\"text-align: right;\">\n",
       "      <th></th>\n",
       "      <th>Pregnancies</th>\n",
       "      <th>Glucose</th>\n",
       "      <th>BloodPressure</th>\n",
       "      <th>SkinThickness</th>\n",
       "      <th>Insulin</th>\n",
       "      <th>BMI</th>\n",
       "      <th>DiabetesPedigreeFunction</th>\n",
       "      <th>Age</th>\n",
       "      <th>Outcome</th>\n",
       "    </tr>\n",
       "  </thead>\n",
       "  <tbody>\n",
       "    <tr>\n",
       "      <th>0</th>\n",
       "      <td>6</td>\n",
       "      <td>148</td>\n",
       "      <td>72</td>\n",
       "      <td>35</td>\n",
       "      <td>0</td>\n",
       "      <td>33.6</td>\n",
       "      <td>0.627</td>\n",
       "      <td>50</td>\n",
       "      <td>1</td>\n",
       "    </tr>\n",
       "    <tr>\n",
       "      <th>1</th>\n",
       "      <td>1</td>\n",
       "      <td>85</td>\n",
       "      <td>66</td>\n",
       "      <td>29</td>\n",
       "      <td>0</td>\n",
       "      <td>26.6</td>\n",
       "      <td>0.351</td>\n",
       "      <td>31</td>\n",
       "      <td>0</td>\n",
       "    </tr>\n",
       "    <tr>\n",
       "      <th>2</th>\n",
       "      <td>8</td>\n",
       "      <td>183</td>\n",
       "      <td>64</td>\n",
       "      <td>0</td>\n",
       "      <td>0</td>\n",
       "      <td>23.3</td>\n",
       "      <td>0.672</td>\n",
       "      <td>32</td>\n",
       "      <td>1</td>\n",
       "    </tr>\n",
       "    <tr>\n",
       "      <th>3</th>\n",
       "      <td>1</td>\n",
       "      <td>89</td>\n",
       "      <td>66</td>\n",
       "      <td>23</td>\n",
       "      <td>94</td>\n",
       "      <td>28.1</td>\n",
       "      <td>0.167</td>\n",
       "      <td>21</td>\n",
       "      <td>0</td>\n",
       "    </tr>\n",
       "    <tr>\n",
       "      <th>4</th>\n",
       "      <td>0</td>\n",
       "      <td>137</td>\n",
       "      <td>40</td>\n",
       "      <td>35</td>\n",
       "      <td>168</td>\n",
       "      <td>43.1</td>\n",
       "      <td>2.288</td>\n",
       "      <td>33</td>\n",
       "      <td>1</td>\n",
       "    </tr>\n",
       "  </tbody>\n",
       "</table>\n",
       "</div>"
      ],
      "text/plain": [
       "   Pregnancies  Glucose  BloodPressure  SkinThickness  Insulin   BMI  \\\n",
       "0            6      148             72             35        0  33.6   \n",
       "1            1       85             66             29        0  26.6   \n",
       "2            8      183             64              0        0  23.3   \n",
       "3            1       89             66             23       94  28.1   \n",
       "4            0      137             40             35      168  43.1   \n",
       "\n",
       "   DiabetesPedigreeFunction  Age  Outcome  \n",
       "0                     0.627   50        1  \n",
       "1                     0.351   31        0  \n",
       "2                     0.672   32        1  \n",
       "3                     0.167   21        0  \n",
       "4                     2.288   33        1  "
      ]
     },
     "execution_count": 2,
     "metadata": {},
     "output_type": "execute_result"
    }
   ],
   "source": [
    "# printing the first 5 rows of the dataset\n",
    "diabetes_dataset.head()"
   ]
  },
  {
   "cell_type": "code",
   "execution_count": 3,
   "metadata": {
    "colab": {
     "base_uri": "https://localhost:8080/"
    },
    "executionInfo": {
     "elapsed": 28,
     "status": "ok",
     "timestamp": 1653200161040,
     "user": {
      "displayName": "siddhardh selvam",
      "userId": "13966379820454708749"
     },
     "user_tz": -330
    },
    "id": "lynParo6pEMB",
    "outputId": "b8e97658-d5ae-4407-e3c0-f4b7b0d0321e"
   },
   "outputs": [
    {
     "data": {
      "text/plain": [
       "(768, 9)"
      ]
     },
     "execution_count": 3,
     "metadata": {},
     "output_type": "execute_result"
    }
   ],
   "source": [
    "# number of rows and Columns in this dataset\n",
    "diabetes_dataset.shape"
   ]
  },
  {
   "cell_type": "code",
   "execution_count": 4,
   "metadata": {
    "colab": {
     "base_uri": "https://localhost:8080/",
     "height": 300
    },
    "executionInfo": {
     "elapsed": 26,
     "status": "ok",
     "timestamp": 1653200161041,
     "user": {
      "displayName": "siddhardh selvam",
      "userId": "13966379820454708749"
     },
     "user_tz": -330
    },
    "id": "3NDJOlrEpmoL",
    "outputId": "1a166b9c-0ec1-42dc-e0f4-32924aa1ab65"
   },
   "outputs": [
    {
     "data": {
      "text/html": [
       "<div>\n",
       "<style scoped>\n",
       "    .dataframe tbody tr th:only-of-type {\n",
       "        vertical-align: middle;\n",
       "    }\n",
       "\n",
       "    .dataframe tbody tr th {\n",
       "        vertical-align: top;\n",
       "    }\n",
       "\n",
       "    .dataframe thead th {\n",
       "        text-align: right;\n",
       "    }\n",
       "</style>\n",
       "<table border=\"1\" class=\"dataframe\">\n",
       "  <thead>\n",
       "    <tr style=\"text-align: right;\">\n",
       "      <th></th>\n",
       "      <th>Pregnancies</th>\n",
       "      <th>Glucose</th>\n",
       "      <th>BloodPressure</th>\n",
       "      <th>SkinThickness</th>\n",
       "      <th>Insulin</th>\n",
       "      <th>BMI</th>\n",
       "      <th>DiabetesPedigreeFunction</th>\n",
       "      <th>Age</th>\n",
       "      <th>Outcome</th>\n",
       "    </tr>\n",
       "  </thead>\n",
       "  <tbody>\n",
       "    <tr>\n",
       "      <th>count</th>\n",
       "      <td>768.000000</td>\n",
       "      <td>768.000000</td>\n",
       "      <td>768.000000</td>\n",
       "      <td>768.000000</td>\n",
       "      <td>768.000000</td>\n",
       "      <td>768.000000</td>\n",
       "      <td>768.000000</td>\n",
       "      <td>768.000000</td>\n",
       "      <td>768.000000</td>\n",
       "    </tr>\n",
       "    <tr>\n",
       "      <th>mean</th>\n",
       "      <td>3.845052</td>\n",
       "      <td>120.894531</td>\n",
       "      <td>69.105469</td>\n",
       "      <td>20.536458</td>\n",
       "      <td>79.799479</td>\n",
       "      <td>31.992578</td>\n",
       "      <td>0.471876</td>\n",
       "      <td>33.240885</td>\n",
       "      <td>0.348958</td>\n",
       "    </tr>\n",
       "    <tr>\n",
       "      <th>std</th>\n",
       "      <td>3.369578</td>\n",
       "      <td>31.972618</td>\n",
       "      <td>19.355807</td>\n",
       "      <td>15.952218</td>\n",
       "      <td>115.244002</td>\n",
       "      <td>7.884160</td>\n",
       "      <td>0.331329</td>\n",
       "      <td>11.760232</td>\n",
       "      <td>0.476951</td>\n",
       "    </tr>\n",
       "    <tr>\n",
       "      <th>min</th>\n",
       "      <td>0.000000</td>\n",
       "      <td>0.000000</td>\n",
       "      <td>0.000000</td>\n",
       "      <td>0.000000</td>\n",
       "      <td>0.000000</td>\n",
       "      <td>0.000000</td>\n",
       "      <td>0.078000</td>\n",
       "      <td>21.000000</td>\n",
       "      <td>0.000000</td>\n",
       "    </tr>\n",
       "    <tr>\n",
       "      <th>25%</th>\n",
       "      <td>1.000000</td>\n",
       "      <td>99.000000</td>\n",
       "      <td>62.000000</td>\n",
       "      <td>0.000000</td>\n",
       "      <td>0.000000</td>\n",
       "      <td>27.300000</td>\n",
       "      <td>0.243750</td>\n",
       "      <td>24.000000</td>\n",
       "      <td>0.000000</td>\n",
       "    </tr>\n",
       "    <tr>\n",
       "      <th>50%</th>\n",
       "      <td>3.000000</td>\n",
       "      <td>117.000000</td>\n",
       "      <td>72.000000</td>\n",
       "      <td>23.000000</td>\n",
       "      <td>30.500000</td>\n",
       "      <td>32.000000</td>\n",
       "      <td>0.372500</td>\n",
       "      <td>29.000000</td>\n",
       "      <td>0.000000</td>\n",
       "    </tr>\n",
       "    <tr>\n",
       "      <th>75%</th>\n",
       "      <td>6.000000</td>\n",
       "      <td>140.250000</td>\n",
       "      <td>80.000000</td>\n",
       "      <td>32.000000</td>\n",
       "      <td>127.250000</td>\n",
       "      <td>36.600000</td>\n",
       "      <td>0.626250</td>\n",
       "      <td>41.000000</td>\n",
       "      <td>1.000000</td>\n",
       "    </tr>\n",
       "    <tr>\n",
       "      <th>max</th>\n",
       "      <td>17.000000</td>\n",
       "      <td>199.000000</td>\n",
       "      <td>122.000000</td>\n",
       "      <td>99.000000</td>\n",
       "      <td>846.000000</td>\n",
       "      <td>67.100000</td>\n",
       "      <td>2.420000</td>\n",
       "      <td>81.000000</td>\n",
       "      <td>1.000000</td>\n",
       "    </tr>\n",
       "  </tbody>\n",
       "</table>\n",
       "</div>"
      ],
      "text/plain": [
       "       Pregnancies     Glucose  BloodPressure  SkinThickness     Insulin  \\\n",
       "count   768.000000  768.000000     768.000000     768.000000  768.000000   \n",
       "mean      3.845052  120.894531      69.105469      20.536458   79.799479   \n",
       "std       3.369578   31.972618      19.355807      15.952218  115.244002   \n",
       "min       0.000000    0.000000       0.000000       0.000000    0.000000   \n",
       "25%       1.000000   99.000000      62.000000       0.000000    0.000000   \n",
       "50%       3.000000  117.000000      72.000000      23.000000   30.500000   \n",
       "75%       6.000000  140.250000      80.000000      32.000000  127.250000   \n",
       "max      17.000000  199.000000     122.000000      99.000000  846.000000   \n",
       "\n",
       "              BMI  DiabetesPedigreeFunction         Age     Outcome  \n",
       "count  768.000000                768.000000  768.000000  768.000000  \n",
       "mean    31.992578                  0.471876   33.240885    0.348958  \n",
       "std      7.884160                  0.331329   11.760232    0.476951  \n",
       "min      0.000000                  0.078000   21.000000    0.000000  \n",
       "25%     27.300000                  0.243750   24.000000    0.000000  \n",
       "50%     32.000000                  0.372500   29.000000    0.000000  \n",
       "75%     36.600000                  0.626250   41.000000    1.000000  \n",
       "max     67.100000                  2.420000   81.000000    1.000000  "
      ]
     },
     "execution_count": 4,
     "metadata": {},
     "output_type": "execute_result"
    }
   ],
   "source": [
    "# getting the statistical measures of the data\n",
    "diabetes_dataset.describe()"
   ]
  },
  {
   "cell_type": "markdown",
   "metadata": {},
   "source": [
    "### Scaling"
   ]
  },
  {
   "cell_type": "code",
   "execution_count": 5,
   "metadata": {},
   "outputs": [
    {
     "name": "stdout",
     "output_type": "stream",
     "text": [
      "   Pregnancies   Glucose  BloodPressure  SkinThickness   Insulin       BMI  \\\n",
      "0     0.639947  0.848324       0.149641       0.907270 -0.692891  0.204013   \n",
      "1    -0.844885 -1.123396      -0.160546       0.530902 -0.692891 -0.684422   \n",
      "2     1.233880  1.943724      -0.263941      -1.288212 -0.692891 -1.103255   \n",
      "3    -0.844885 -0.998208      -0.160546       0.154533  0.123302 -0.494043   \n",
      "4    -1.141852  0.504055      -1.504687       0.907270  0.765836  1.409746   \n",
      "\n",
      "   DiabetesPedigreeFunction       Age  Outcome  \n",
      "0                  0.468492  1.425995        1  \n",
      "1                 -0.365061 -0.190672        0  \n",
      "2                  0.604397 -0.105584        1  \n",
      "3                 -0.920763 -1.041549        0  \n",
      "4                  5.484909 -0.020496        1  \n"
     ]
    }
   ],
   "source": [
    "from sklearn.preprocessing import StandardScaler\n",
    "\n",
    "# Create a StandardScaler object\n",
    "scaler = StandardScaler()\n",
    "\n",
    "# Define the features to be scaled\n",
    "features_to_scale = ['Pregnancies', 'Glucose', 'BloodPressure', 'SkinThickness', 'Insulin', 'BMI', 'DiabetesPedigreeFunction', 'Age']\n",
    "\n",
    "# Fit the scaler to the data and transform the features\n",
    "scaled_features = scaler.fit_transform(diabetes_dataset[features_to_scale])\n",
    "\n",
    "# Update the original DataFrame with the scaled features\n",
    "diabetes_dataset[features_to_scale] = scaled_features\n",
    "\n",
    "print(diabetes_dataset.head())"
   ]
  },
  {
   "cell_type": "code",
   "execution_count": 6,
   "metadata": {
    "colab": {
     "base_uri": "https://localhost:8080/"
    },
    "executionInfo": {
     "elapsed": 27,
     "status": "ok",
     "timestamp": 1653200161043,
     "user": {
      "displayName": "siddhardh selvam",
      "userId": "13966379820454708749"
     },
     "user_tz": -330
    },
    "id": "LrpHzaGpp5dQ",
    "outputId": "5da75a35-5065-4c08-abb1-13bc921dec5a"
   },
   "outputs": [
    {
     "data": {
      "text/plain": [
       "Outcome\n",
       "0    500\n",
       "1    268\n",
       "Name: count, dtype: int64"
      ]
     },
     "execution_count": 6,
     "metadata": {},
     "output_type": "execute_result"
    }
   ],
   "source": [
    "diabetes_dataset['Outcome'].value_counts()"
   ]
  },
  {
   "cell_type": "markdown",
   "metadata": {
    "id": "cB1qRaNcqeh5"
   },
   "source": [
    "0 --> Non-Diabetic\n",
    "\n",
    "1 --> Diabetic"
   ]
  },
  {
   "cell_type": "code",
   "execution_count": 7,
   "metadata": {
    "colab": {
     "base_uri": "https://localhost:8080/",
     "height": 143
    },
    "executionInfo": {
     "elapsed": 27,
     "status": "ok",
     "timestamp": 1653200161045,
     "user": {
      "displayName": "siddhardh selvam",
      "userId": "13966379820454708749"
     },
     "user_tz": -330
    },
    "id": "I6MWR0k_qSCK",
    "outputId": "1e817bc0-c41e-4181-a8e5-37885e765862"
   },
   "outputs": [
    {
     "data": {
      "text/html": [
       "<div>\n",
       "<style scoped>\n",
       "    .dataframe tbody tr th:only-of-type {\n",
       "        vertical-align: middle;\n",
       "    }\n",
       "\n",
       "    .dataframe tbody tr th {\n",
       "        vertical-align: top;\n",
       "    }\n",
       "\n",
       "    .dataframe thead th {\n",
       "        text-align: right;\n",
       "    }\n",
       "</style>\n",
       "<table border=\"1\" class=\"dataframe\">\n",
       "  <thead>\n",
       "    <tr style=\"text-align: right;\">\n",
       "      <th></th>\n",
       "      <th>Pregnancies</th>\n",
       "      <th>Glucose</th>\n",
       "      <th>BloodPressure</th>\n",
       "      <th>SkinThickness</th>\n",
       "      <th>Insulin</th>\n",
       "      <th>BMI</th>\n",
       "      <th>DiabetesPedigreeFunction</th>\n",
       "      <th>Age</th>\n",
       "    </tr>\n",
       "    <tr>\n",
       "      <th>Outcome</th>\n",
       "      <th></th>\n",
       "      <th></th>\n",
       "      <th></th>\n",
       "      <th></th>\n",
       "      <th></th>\n",
       "      <th></th>\n",
       "      <th></th>\n",
       "      <th></th>\n",
       "    </tr>\n",
       "  </thead>\n",
       "  <tbody>\n",
       "    <tr>\n",
       "      <th>0</th>\n",
       "      <td>-0.162456</td>\n",
       "      <td>-0.341594</td>\n",
       "      <td>-0.047638</td>\n",
       "      <td>-0.054728</td>\n",
       "      <td>-0.095577</td>\n",
       "      <td>-0.214288</td>\n",
       "      <td>-0.127275</td>\n",
       "      <td>-0.174505</td>\n",
       "    </tr>\n",
       "    <tr>\n",
       "      <th>1</th>\n",
       "      <td>0.303090</td>\n",
       "      <td>0.637302</td>\n",
       "      <td>0.088877</td>\n",
       "      <td>0.102104</td>\n",
       "      <td>0.178315</td>\n",
       "      <td>0.399790</td>\n",
       "      <td>0.237453</td>\n",
       "      <td>0.325569</td>\n",
       "    </tr>\n",
       "  </tbody>\n",
       "</table>\n",
       "</div>"
      ],
      "text/plain": [
       "         Pregnancies   Glucose  BloodPressure  SkinThickness   Insulin  \\\n",
       "Outcome                                                                  \n",
       "0          -0.162456 -0.341594      -0.047638      -0.054728 -0.095577   \n",
       "1           0.303090  0.637302       0.088877       0.102104  0.178315   \n",
       "\n",
       "              BMI  DiabetesPedigreeFunction       Age  \n",
       "Outcome                                                \n",
       "0       -0.214288                 -0.127275 -0.174505  \n",
       "1        0.399790                  0.237453  0.325569  "
      ]
     },
     "execution_count": 7,
     "metadata": {},
     "output_type": "execute_result"
    }
   ],
   "source": [
    "diabetes_dataset.groupby('Outcome').mean()"
   ]
  },
  {
   "cell_type": "code",
   "execution_count": 8,
   "metadata": {
    "executionInfo": {
     "elapsed": 27,
     "status": "ok",
     "timestamp": 1653200161046,
     "user": {
      "displayName": "siddhardh selvam",
      "userId": "13966379820454708749"
     },
     "user_tz": -330
    },
    "id": "RoDW7l9mqqHZ"
   },
   "outputs": [],
   "source": [
    "# separating the data and labels\n",
    "X = diabetes_dataset.drop(columns = 'Outcome', axis=1)\n",
    "Y = diabetes_dataset['Outcome']"
   ]
  },
  {
   "cell_type": "markdown",
   "metadata": {
    "id": "gHciEFkxsoQP"
   },
   "source": [
    "### Train Test Split"
   ]
  },
  {
   "cell_type": "code",
   "execution_count": 9,
   "metadata": {},
   "outputs": [],
   "source": [
    "from sklearn.model_selection import train_test_split"
   ]
  },
  {
   "cell_type": "code",
   "execution_count": 10,
   "metadata": {
    "executionInfo": {
     "elapsed": 21,
     "status": "ok",
     "timestamp": 1653200161047,
     "user": {
      "displayName": "siddhardh selvam",
      "userId": "13966379820454708749"
     },
     "user_tz": -330
    },
    "id": "AEfKGj_yslvD"
   },
   "outputs": [],
   "source": [
    "X_train, X_test, Y_train, Y_test = train_test_split(X ,Y, test_size = 0.2, stratify=Y, random_state=2)"
   ]
  },
  {
   "cell_type": "code",
   "execution_count": 11,
   "metadata": {
    "colab": {
     "base_uri": "https://localhost:8080/"
    },
    "executionInfo": {
     "elapsed": 21,
     "status": "ok",
     "timestamp": 1653200161048,
     "user": {
      "displayName": "siddhardh selvam",
      "userId": "13966379820454708749"
     },
     "user_tz": -330
    },
    "id": "DR05T-o0t3FQ",
    "outputId": "1e35e84b-b1ac-4cf3-c2af-31eb3bf2e71c"
   },
   "outputs": [
    {
     "name": "stdout",
     "output_type": "stream",
     "text": [
      "(768, 8) (614, 8) (154, 8)\n"
     ]
    }
   ],
   "source": [
    "print(X.shape, X_train.shape, X_test.shape)"
   ]
  },
  {
   "cell_type": "markdown",
   "metadata": {},
   "source": [
    "### Evaluation"
   ]
  },
  {
   "cell_type": "code",
   "execution_count": 12,
   "metadata": {},
   "outputs": [],
   "source": [
    "from sklearn.metrics import accuracy_score, precision_score, recall_score, f1_score, confusion_matrix\n",
    "import seaborn as sns\n",
    "import matplotlib.pyplot as plt\n",
    "\n",
    "def evaluation(model):\n",
    "    training_prediction = model.predict(X_train)\n",
    "    test_prediction = model.predict(X_test)\n",
    "    \n",
    "    print(\"Accuracy Score of the model: \")\n",
    "    \n",
    "    training_data_accuracy = accuracy_score(Y_train, training_prediction)\n",
    "    print(\"Accuracy score on training data: \", training_data_accuracy)\n",
    "\n",
    "    test_data_accuracy = accuracy_score(Y_test, test_prediction)\n",
    "    print(\"Accuracy score on test data: \", test_data_accuracy)\n",
    "    \n",
    "    print()\n",
    "    print(\"Precision of the model: \")\n",
    "\n",
    "    training_data_precision = precision_score(Y_train, training_prediction, average='binary')\n",
    "    print(\"Precision score on training data: \", training_data_precision)\n",
    "\n",
    "    test_data_precision = precision_score(Y_test, test_prediction, average='binary')\n",
    "    print (\"Precision score on test data: \", test_data_precision)\n",
    "    print()\n",
    "    print(\"Recall of the model: \")\n",
    "\n",
    "    training_data_recall = recall_score(Y_train, training_prediction, average='binary')\n",
    "    print(\"Recall score on training data: \", training_data_recall)\n",
    "\n",
    "    test_data_recall = recall_score(Y_test, test_prediction, average='binary')\n",
    "    print (\"Recall score on test data: \", test_data_recall)\n",
    "    print()\n",
    "    print(\"f1 score of the model: \")\n",
    "\n",
    "    training_data_f1 = f1_score(Y_train, training_prediction, average='binary')\n",
    "    print(\"f1 score on training data: \", training_data_f1)\n",
    "\n",
    "    test_data_f1 = f1_score(Y_test, test_prediction, average='binary')\n",
    "    print (\"f1 score on test data: \", test_data_f1)\n",
    "    \n",
    "    conf_matrix_train = confusion_matrix(Y_train, training_prediction)\n",
    "\n",
    "    sns.heatmap(conf_matrix_train, annot=True, fmt=\"d\", cmap=\"Blues\", cbar=False)\n",
    "    plt.title(\"Confusion Matrix for Training Data\")\n",
    "    plt.xlabel(\"Predicted Labels\")\n",
    "    plt.ylabel(\"True Labels\")\n",
    "    plt.show()\n",
    "    \n",
    "    conf_matrix_test = confusion_matrix(Y_test, test_prediction)\n",
    "\n",
    "    sns.heatmap(conf_matrix_test, annot=True, fmt=\"d\", cmap=\"Blues\", cbar=False)\n",
    "    plt.title(\"Confusion Matrix for Test Data\")\n",
    "    plt.xlabel(\"Predicted Labels\")\n",
    "    plt.ylabel(\"True Labels\")\n",
    "    plt.show()"
   ]
  },
  {
   "cell_type": "code",
   "execution_count": 13,
   "metadata": {},
   "outputs": [],
   "source": [
    "from pycaret.classification import compare_models, setup"
   ]
  },
  {
   "cell_type": "markdown",
   "metadata": {},
   "source": [
    "This function initializes the training environment and creates the transformation pipeline. Setup function must be called before executing any other function. It takes two mandatory parameters: data and target."
   ]
  },
  {
   "cell_type": "code",
   "execution_count": 14,
   "metadata": {},
   "outputs": [
    {
     "data": {
      "text/html": [
       "<style type=\"text/css\">\n",
       "#T_12e93_row8_col1 {\n",
       "  background-color: lightgreen;\n",
       "}\n",
       "</style>\n",
       "<table id=\"T_12e93\">\n",
       "  <thead>\n",
       "    <tr>\n",
       "      <th class=\"blank level0\" >&nbsp;</th>\n",
       "      <th id=\"T_12e93_level0_col0\" class=\"col_heading level0 col0\" >Description</th>\n",
       "      <th id=\"T_12e93_level0_col1\" class=\"col_heading level0 col1\" >Value</th>\n",
       "    </tr>\n",
       "  </thead>\n",
       "  <tbody>\n",
       "    <tr>\n",
       "      <th id=\"T_12e93_level0_row0\" class=\"row_heading level0 row0\" >0</th>\n",
       "      <td id=\"T_12e93_row0_col0\" class=\"data row0 col0\" >Session id</td>\n",
       "      <td id=\"T_12e93_row0_col1\" class=\"data row0 col1\" >8624</td>\n",
       "    </tr>\n",
       "    <tr>\n",
       "      <th id=\"T_12e93_level0_row1\" class=\"row_heading level0 row1\" >1</th>\n",
       "      <td id=\"T_12e93_row1_col0\" class=\"data row1 col0\" >Target</td>\n",
       "      <td id=\"T_12e93_row1_col1\" class=\"data row1 col1\" >Outcome</td>\n",
       "    </tr>\n",
       "    <tr>\n",
       "      <th id=\"T_12e93_level0_row2\" class=\"row_heading level0 row2\" >2</th>\n",
       "      <td id=\"T_12e93_row2_col0\" class=\"data row2 col0\" >Target type</td>\n",
       "      <td id=\"T_12e93_row2_col1\" class=\"data row2 col1\" >Binary</td>\n",
       "    </tr>\n",
       "    <tr>\n",
       "      <th id=\"T_12e93_level0_row3\" class=\"row_heading level0 row3\" >3</th>\n",
       "      <td id=\"T_12e93_row3_col0\" class=\"data row3 col0\" >Original data shape</td>\n",
       "      <td id=\"T_12e93_row3_col1\" class=\"data row3 col1\" >(768, 9)</td>\n",
       "    </tr>\n",
       "    <tr>\n",
       "      <th id=\"T_12e93_level0_row4\" class=\"row_heading level0 row4\" >4</th>\n",
       "      <td id=\"T_12e93_row4_col0\" class=\"data row4 col0\" >Transformed data shape</td>\n",
       "      <td id=\"T_12e93_row4_col1\" class=\"data row4 col1\" >(768, 9)</td>\n",
       "    </tr>\n",
       "    <tr>\n",
       "      <th id=\"T_12e93_level0_row5\" class=\"row_heading level0 row5\" >5</th>\n",
       "      <td id=\"T_12e93_row5_col0\" class=\"data row5 col0\" >Transformed train set shape</td>\n",
       "      <td id=\"T_12e93_row5_col1\" class=\"data row5 col1\" >(537, 9)</td>\n",
       "    </tr>\n",
       "    <tr>\n",
       "      <th id=\"T_12e93_level0_row6\" class=\"row_heading level0 row6\" >6</th>\n",
       "      <td id=\"T_12e93_row6_col0\" class=\"data row6 col0\" >Transformed test set shape</td>\n",
       "      <td id=\"T_12e93_row6_col1\" class=\"data row6 col1\" >(231, 9)</td>\n",
       "    </tr>\n",
       "    <tr>\n",
       "      <th id=\"T_12e93_level0_row7\" class=\"row_heading level0 row7\" >7</th>\n",
       "      <td id=\"T_12e93_row7_col0\" class=\"data row7 col0\" >Numeric features</td>\n",
       "      <td id=\"T_12e93_row7_col1\" class=\"data row7 col1\" >8</td>\n",
       "    </tr>\n",
       "    <tr>\n",
       "      <th id=\"T_12e93_level0_row8\" class=\"row_heading level0 row8\" >8</th>\n",
       "      <td id=\"T_12e93_row8_col0\" class=\"data row8 col0\" >Preprocess</td>\n",
       "      <td id=\"T_12e93_row8_col1\" class=\"data row8 col1\" >True</td>\n",
       "    </tr>\n",
       "    <tr>\n",
       "      <th id=\"T_12e93_level0_row9\" class=\"row_heading level0 row9\" >9</th>\n",
       "      <td id=\"T_12e93_row9_col0\" class=\"data row9 col0\" >Imputation type</td>\n",
       "      <td id=\"T_12e93_row9_col1\" class=\"data row9 col1\" >simple</td>\n",
       "    </tr>\n",
       "    <tr>\n",
       "      <th id=\"T_12e93_level0_row10\" class=\"row_heading level0 row10\" >10</th>\n",
       "      <td id=\"T_12e93_row10_col0\" class=\"data row10 col0\" >Numeric imputation</td>\n",
       "      <td id=\"T_12e93_row10_col1\" class=\"data row10 col1\" >mean</td>\n",
       "    </tr>\n",
       "    <tr>\n",
       "      <th id=\"T_12e93_level0_row11\" class=\"row_heading level0 row11\" >11</th>\n",
       "      <td id=\"T_12e93_row11_col0\" class=\"data row11 col0\" >Categorical imputation</td>\n",
       "      <td id=\"T_12e93_row11_col1\" class=\"data row11 col1\" >mode</td>\n",
       "    </tr>\n",
       "    <tr>\n",
       "      <th id=\"T_12e93_level0_row12\" class=\"row_heading level0 row12\" >12</th>\n",
       "      <td id=\"T_12e93_row12_col0\" class=\"data row12 col0\" >Fold Generator</td>\n",
       "      <td id=\"T_12e93_row12_col1\" class=\"data row12 col1\" >StratifiedKFold</td>\n",
       "    </tr>\n",
       "    <tr>\n",
       "      <th id=\"T_12e93_level0_row13\" class=\"row_heading level0 row13\" >13</th>\n",
       "      <td id=\"T_12e93_row13_col0\" class=\"data row13 col0\" >Fold Number</td>\n",
       "      <td id=\"T_12e93_row13_col1\" class=\"data row13 col1\" >10</td>\n",
       "    </tr>\n",
       "    <tr>\n",
       "      <th id=\"T_12e93_level0_row14\" class=\"row_heading level0 row14\" >14</th>\n",
       "      <td id=\"T_12e93_row14_col0\" class=\"data row14 col0\" >CPU Jobs</td>\n",
       "      <td id=\"T_12e93_row14_col1\" class=\"data row14 col1\" >-1</td>\n",
       "    </tr>\n",
       "    <tr>\n",
       "      <th id=\"T_12e93_level0_row15\" class=\"row_heading level0 row15\" >15</th>\n",
       "      <td id=\"T_12e93_row15_col0\" class=\"data row15 col0\" >Use GPU</td>\n",
       "      <td id=\"T_12e93_row15_col1\" class=\"data row15 col1\" >False</td>\n",
       "    </tr>\n",
       "    <tr>\n",
       "      <th id=\"T_12e93_level0_row16\" class=\"row_heading level0 row16\" >16</th>\n",
       "      <td id=\"T_12e93_row16_col0\" class=\"data row16 col0\" >Log Experiment</td>\n",
       "      <td id=\"T_12e93_row16_col1\" class=\"data row16 col1\" >False</td>\n",
       "    </tr>\n",
       "    <tr>\n",
       "      <th id=\"T_12e93_level0_row17\" class=\"row_heading level0 row17\" >17</th>\n",
       "      <td id=\"T_12e93_row17_col0\" class=\"data row17 col0\" >Experiment Name</td>\n",
       "      <td id=\"T_12e93_row17_col1\" class=\"data row17 col1\" >clf-default-name</td>\n",
       "    </tr>\n",
       "    <tr>\n",
       "      <th id=\"T_12e93_level0_row18\" class=\"row_heading level0 row18\" >18</th>\n",
       "      <td id=\"T_12e93_row18_col0\" class=\"data row18 col0\" >USI</td>\n",
       "      <td id=\"T_12e93_row18_col1\" class=\"data row18 col1\" >4f28</td>\n",
       "    </tr>\n",
       "  </tbody>\n",
       "</table>\n"
      ],
      "text/plain": [
       "<pandas.io.formats.style.Styler at 0x16b9bf550>"
      ]
     },
     "metadata": {},
     "output_type": "display_data"
    }
   ],
   "source": [
    "clf1 = setup(data = diabetes_dataset, \n",
    "             target = 'Outcome')"
   ]
  },
  {
   "cell_type": "code",
   "execution_count": 15,
   "metadata": {},
   "outputs": [
    {
     "data": {
      "text/html": [],
      "text/plain": [
       "<IPython.core.display.HTML object>"
      ]
     },
     "metadata": {},
     "output_type": "display_data"
    },
    {
     "data": {
      "text/html": [
       "<style type=\"text/css\">\n",
       "#T_be072 th {\n",
       "  text-align: left;\n",
       "}\n",
       "#T_be072_row0_col0, #T_be072_row0_col3, #T_be072_row0_col4, #T_be072_row1_col0, #T_be072_row1_col1, #T_be072_row1_col2, #T_be072_row1_col3, #T_be072_row1_col5, #T_be072_row1_col6, #T_be072_row1_col7, #T_be072_row2_col0, #T_be072_row2_col1, #T_be072_row2_col2, #T_be072_row2_col4, #T_be072_row2_col5, #T_be072_row2_col6, #T_be072_row2_col7, #T_be072_row3_col0, #T_be072_row3_col1, #T_be072_row3_col2, #T_be072_row3_col3, #T_be072_row3_col4, #T_be072_row3_col5, #T_be072_row3_col6, #T_be072_row3_col7, #T_be072_row4_col0, #T_be072_row4_col1, #T_be072_row4_col2, #T_be072_row4_col3, #T_be072_row4_col4, #T_be072_row4_col5, #T_be072_row4_col6, #T_be072_row4_col7, #T_be072_row5_col0, #T_be072_row5_col1, #T_be072_row5_col2, #T_be072_row5_col3, #T_be072_row5_col4, #T_be072_row5_col5, #T_be072_row5_col6, #T_be072_row5_col7 {\n",
       "  text-align: left;\n",
       "}\n",
       "#T_be072_row0_col1, #T_be072_row0_col2, #T_be072_row0_col5, #T_be072_row0_col6, #T_be072_row0_col7, #T_be072_row1_col4, #T_be072_row2_col3 {\n",
       "  text-align: left;\n",
       "  background-color: yellow;\n",
       "}\n",
       "#T_be072_row0_col8, #T_be072_row2_col8, #T_be072_row3_col8, #T_be072_row4_col8, #T_be072_row5_col8 {\n",
       "  text-align: left;\n",
       "  background-color: lightgrey;\n",
       "}\n",
       "#T_be072_row1_col8 {\n",
       "  text-align: left;\n",
       "  background-color: yellow;\n",
       "  background-color: lightgrey;\n",
       "}\n",
       "</style>\n",
       "<table id=\"T_be072\">\n",
       "  <thead>\n",
       "    <tr>\n",
       "      <th class=\"blank level0\" >&nbsp;</th>\n",
       "      <th id=\"T_be072_level0_col0\" class=\"col_heading level0 col0\" >Model</th>\n",
       "      <th id=\"T_be072_level0_col1\" class=\"col_heading level0 col1\" >Accuracy</th>\n",
       "      <th id=\"T_be072_level0_col2\" class=\"col_heading level0 col2\" >AUC</th>\n",
       "      <th id=\"T_be072_level0_col3\" class=\"col_heading level0 col3\" >Recall</th>\n",
       "      <th id=\"T_be072_level0_col4\" class=\"col_heading level0 col4\" >Prec.</th>\n",
       "      <th id=\"T_be072_level0_col5\" class=\"col_heading level0 col5\" >F1</th>\n",
       "      <th id=\"T_be072_level0_col6\" class=\"col_heading level0 col6\" >Kappa</th>\n",
       "      <th id=\"T_be072_level0_col7\" class=\"col_heading level0 col7\" >MCC</th>\n",
       "      <th id=\"T_be072_level0_col8\" class=\"col_heading level0 col8\" >TT (Sec)</th>\n",
       "    </tr>\n",
       "  </thead>\n",
       "  <tbody>\n",
       "    <tr>\n",
       "      <th id=\"T_be072_level0_row0\" class=\"row_heading level0 row0\" >lr</th>\n",
       "      <td id=\"T_be072_row0_col0\" class=\"data row0 col0\" >Logistic Regression</td>\n",
       "      <td id=\"T_be072_row0_col1\" class=\"data row0 col1\" >0.7801</td>\n",
       "      <td id=\"T_be072_row0_col2\" class=\"data row0 col2\" >0.8397</td>\n",
       "      <td id=\"T_be072_row0_col3\" class=\"data row0 col3\" >0.5933</td>\n",
       "      <td id=\"T_be072_row0_col4\" class=\"data row0 col4\" >0.7236</td>\n",
       "      <td id=\"T_be072_row0_col5\" class=\"data row0 col5\" >0.6490</td>\n",
       "      <td id=\"T_be072_row0_col6\" class=\"data row0 col6\" >0.4922</td>\n",
       "      <td id=\"T_be072_row0_col7\" class=\"data row0 col7\" >0.4992</td>\n",
       "      <td id=\"T_be072_row0_col8\" class=\"data row0 col8\" >0.1850</td>\n",
       "    </tr>\n",
       "    <tr>\n",
       "      <th id=\"T_be072_level0_row1\" class=\"row_heading level0 row1\" >lda</th>\n",
       "      <td id=\"T_be072_row1_col0\" class=\"data row1 col0\" >Linear Discriminant Analysis</td>\n",
       "      <td id=\"T_be072_row1_col1\" class=\"data row1 col1\" >0.7763</td>\n",
       "      <td id=\"T_be072_row1_col2\" class=\"data row1 col2\" >0.8378</td>\n",
       "      <td id=\"T_be072_row1_col3\" class=\"data row1 col3\" >0.5825</td>\n",
       "      <td id=\"T_be072_row1_col4\" class=\"data row1 col4\" >0.7240</td>\n",
       "      <td id=\"T_be072_row1_col5\" class=\"data row1 col5\" >0.6416</td>\n",
       "      <td id=\"T_be072_row1_col6\" class=\"data row1 col6\" >0.4828</td>\n",
       "      <td id=\"T_be072_row1_col7\" class=\"data row1 col7\" >0.4914</td>\n",
       "      <td id=\"T_be072_row1_col8\" class=\"data row1 col8\" >0.0040</td>\n",
       "    </tr>\n",
       "    <tr>\n",
       "      <th id=\"T_be072_level0_row2\" class=\"row_heading level0 row2\" >gbc</th>\n",
       "      <td id=\"T_be072_row2_col0\" class=\"data row2 col0\" >Gradient Boosting Classifier</td>\n",
       "      <td id=\"T_be072_row2_col1\" class=\"data row2 col1\" >0.7599</td>\n",
       "      <td id=\"T_be072_row2_col2\" class=\"data row2 col2\" >0.8216</td>\n",
       "      <td id=\"T_be072_row2_col3\" class=\"data row2 col3\" >0.6161</td>\n",
       "      <td id=\"T_be072_row2_col4\" class=\"data row2 col4\" >0.6677</td>\n",
       "      <td id=\"T_be072_row2_col5\" class=\"data row2 col5\" >0.6387</td>\n",
       "      <td id=\"T_be072_row2_col6\" class=\"data row2 col6\" >0.4599</td>\n",
       "      <td id=\"T_be072_row2_col7\" class=\"data row2 col7\" >0.4626</td>\n",
       "      <td id=\"T_be072_row2_col8\" class=\"data row2 col8\" >0.0210</td>\n",
       "    </tr>\n",
       "    <tr>\n",
       "      <th id=\"T_be072_level0_row3\" class=\"row_heading level0 row3\" >rf</th>\n",
       "      <td id=\"T_be072_row3_col0\" class=\"data row3 col0\" >Random Forest Classifier</td>\n",
       "      <td id=\"T_be072_row3_col1\" class=\"data row3 col1\" >0.7632</td>\n",
       "      <td id=\"T_be072_row3_col2\" class=\"data row3 col2\" >0.8179</td>\n",
       "      <td id=\"T_be072_row3_col3\" class=\"data row3 col3\" >0.5722</td>\n",
       "      <td id=\"T_be072_row3_col4\" class=\"data row3 col4\" >0.6982</td>\n",
       "      <td id=\"T_be072_row3_col5\" class=\"data row3 col5\" >0.6224</td>\n",
       "      <td id=\"T_be072_row3_col6\" class=\"data row3 col6\" >0.4545</td>\n",
       "      <td id=\"T_be072_row3_col7\" class=\"data row3 col7\" >0.4635</td>\n",
       "      <td id=\"T_be072_row3_col8\" class=\"data row3 col8\" >0.0280</td>\n",
       "    </tr>\n",
       "    <tr>\n",
       "      <th id=\"T_be072_level0_row4\" class=\"row_heading level0 row4\" >et</th>\n",
       "      <td id=\"T_be072_row4_col0\" class=\"data row4 col0\" >Extra Trees Classifier</td>\n",
       "      <td id=\"T_be072_row4_col1\" class=\"data row4 col1\" >0.7540</td>\n",
       "      <td id=\"T_be072_row4_col2\" class=\"data row4 col2\" >0.8116</td>\n",
       "      <td id=\"T_be072_row4_col3\" class=\"data row4 col3\" >0.5611</td>\n",
       "      <td id=\"T_be072_row4_col4\" class=\"data row4 col4\" >0.6779</td>\n",
       "      <td id=\"T_be072_row4_col5\" class=\"data row4 col5\" >0.6102</td>\n",
       "      <td id=\"T_be072_row4_col6\" class=\"data row4 col6\" >0.4340</td>\n",
       "      <td id=\"T_be072_row4_col7\" class=\"data row4 col7\" >0.4405</td>\n",
       "      <td id=\"T_be072_row4_col8\" class=\"data row4 col8\" >0.0240</td>\n",
       "    </tr>\n",
       "    <tr>\n",
       "      <th id=\"T_be072_level0_row5\" class=\"row_heading level0 row5\" >ada</th>\n",
       "      <td id=\"T_be072_row5_col0\" class=\"data row5 col0\" >Ada Boost Classifier</td>\n",
       "      <td id=\"T_be072_row5_col1\" class=\"data row5 col1\" >0.7318</td>\n",
       "      <td id=\"T_be072_row5_col2\" class=\"data row5 col2\" >0.8019</td>\n",
       "      <td id=\"T_be072_row5_col3\" class=\"data row5 col3\" >0.5509</td>\n",
       "      <td id=\"T_be072_row5_col4\" class=\"data row5 col4\" >0.6283</td>\n",
       "      <td id=\"T_be072_row5_col5\" class=\"data row5 col5\" >0.5839</td>\n",
       "      <td id=\"T_be072_row5_col6\" class=\"data row5 col6\" >0.3888</td>\n",
       "      <td id=\"T_be072_row5_col7\" class=\"data row5 col7\" >0.3921</td>\n",
       "      <td id=\"T_be072_row5_col8\" class=\"data row5 col8\" >0.0120</td>\n",
       "    </tr>\n",
       "  </tbody>\n",
       "</table>\n"
      ],
      "text/plain": [
       "<pandas.io.formats.style.Styler at 0x16c229ed0>"
      ]
     },
     "metadata": {},
     "output_type": "display_data"
    },
    {
     "data": {
      "text/html": [],
      "text/plain": [
       "<IPython.core.display.HTML object>"
      ]
     },
     "metadata": {},
     "output_type": "display_data"
    }
   ],
   "source": [
    "top5 = compare_models(sort='AUC',\n",
    "                      n_select=5,\n",
    "                      exclude=['lightgbm', 'xgboost', 'dummy', 'svm', 'ridge', 'knn', 'dt', 'nb', 'qda']\n",
    "                     )"
   ]
  },
  {
   "cell_type": "markdown",
   "metadata": {},
   "source": [
    "### Soft Voting Ensemble"
   ]
  },
  {
   "cell_type": "markdown",
   "metadata": {},
   "source": [
    "A soft voting ensemble is a type of ensemble learning method used in machine learning for classification tasks where multiple base models are trained on the same dataset, and they each produce probability estimates for all possible classes.\n",
    "\n",
    "To make predictions with a soft voting ensemble, the predicted probabilities from each base model are averaged (or weighted averaged) for each class across all base models. The class with the highest average probability is then chosen as the final prediction."
   ]
  },
  {
   "cell_type": "code",
   "execution_count": 16,
   "metadata": {},
   "outputs": [],
   "source": [
    "from pycaret.classification import blend_models"
   ]
  },
  {
   "cell_type": "code",
   "execution_count": 17,
   "metadata": {},
   "outputs": [
    {
     "data": {
      "text/html": [],
      "text/plain": [
       "<IPython.core.display.HTML object>"
      ]
     },
     "metadata": {},
     "output_type": "display_data"
    },
    {
     "data": {
      "text/html": [
       "<style type=\"text/css\">\n",
       "#T_ed603_row10_col0, #T_ed603_row10_col1, #T_ed603_row10_col2, #T_ed603_row10_col3, #T_ed603_row10_col4, #T_ed603_row10_col5, #T_ed603_row10_col6 {\n",
       "  background: yellow;\n",
       "}\n",
       "</style>\n",
       "<table id=\"T_ed603\">\n",
       "  <thead>\n",
       "    <tr>\n",
       "      <th class=\"blank level0\" >&nbsp;</th>\n",
       "      <th id=\"T_ed603_level0_col0\" class=\"col_heading level0 col0\" >Accuracy</th>\n",
       "      <th id=\"T_ed603_level0_col1\" class=\"col_heading level0 col1\" >AUC</th>\n",
       "      <th id=\"T_ed603_level0_col2\" class=\"col_heading level0 col2\" >Recall</th>\n",
       "      <th id=\"T_ed603_level0_col3\" class=\"col_heading level0 col3\" >Prec.</th>\n",
       "      <th id=\"T_ed603_level0_col4\" class=\"col_heading level0 col4\" >F1</th>\n",
       "      <th id=\"T_ed603_level0_col5\" class=\"col_heading level0 col5\" >Kappa</th>\n",
       "      <th id=\"T_ed603_level0_col6\" class=\"col_heading level0 col6\" >MCC</th>\n",
       "    </tr>\n",
       "    <tr>\n",
       "      <th class=\"index_name level0\" >Fold</th>\n",
       "      <th class=\"blank col0\" >&nbsp;</th>\n",
       "      <th class=\"blank col1\" >&nbsp;</th>\n",
       "      <th class=\"blank col2\" >&nbsp;</th>\n",
       "      <th class=\"blank col3\" >&nbsp;</th>\n",
       "      <th class=\"blank col4\" >&nbsp;</th>\n",
       "      <th class=\"blank col5\" >&nbsp;</th>\n",
       "      <th class=\"blank col6\" >&nbsp;</th>\n",
       "    </tr>\n",
       "  </thead>\n",
       "  <tbody>\n",
       "    <tr>\n",
       "      <th id=\"T_ed603_level0_row0\" class=\"row_heading level0 row0\" >0</th>\n",
       "      <td id=\"T_ed603_row0_col0\" class=\"data row0 col0\" >0.8148</td>\n",
       "      <td id=\"T_ed603_row0_col1\" class=\"data row0 col1\" >0.9023</td>\n",
       "      <td id=\"T_ed603_row0_col2\" class=\"data row0 col2\" >0.5789</td>\n",
       "      <td id=\"T_ed603_row0_col3\" class=\"data row0 col3\" >0.8462</td>\n",
       "      <td id=\"T_ed603_row0_col4\" class=\"data row0 col4\" >0.6875</td>\n",
       "      <td id=\"T_ed603_row0_col5\" class=\"data row0 col5\" >0.5624</td>\n",
       "      <td id=\"T_ed603_row0_col6\" class=\"data row0 col6\" >0.5828</td>\n",
       "    </tr>\n",
       "    <tr>\n",
       "      <th id=\"T_ed603_level0_row1\" class=\"row_heading level0 row1\" >1</th>\n",
       "      <td id=\"T_ed603_row1_col0\" class=\"data row1 col0\" >0.8333</td>\n",
       "      <td id=\"T_ed603_row1_col1\" class=\"data row1 col1\" >0.9278</td>\n",
       "      <td id=\"T_ed603_row1_col2\" class=\"data row1 col2\" >0.7368</td>\n",
       "      <td id=\"T_ed603_row1_col3\" class=\"data row1 col3\" >0.7778</td>\n",
       "      <td id=\"T_ed603_row1_col4\" class=\"data row1 col4\" >0.7568</td>\n",
       "      <td id=\"T_ed603_row1_col5\" class=\"data row1 col5\" >0.6301</td>\n",
       "      <td id=\"T_ed603_row1_col6\" class=\"data row1 col6\" >0.6307</td>\n",
       "    </tr>\n",
       "    <tr>\n",
       "      <th id=\"T_ed603_level0_row2\" class=\"row_heading level0 row2\" >2</th>\n",
       "      <td id=\"T_ed603_row2_col0\" class=\"data row2 col0\" >0.7037</td>\n",
       "      <td id=\"T_ed603_row2_col1\" class=\"data row2 col1\" >0.8271</td>\n",
       "      <td id=\"T_ed603_row2_col2\" class=\"data row2 col2\" >0.4211</td>\n",
       "      <td id=\"T_ed603_row2_col3\" class=\"data row2 col3\" >0.6154</td>\n",
       "      <td id=\"T_ed603_row2_col4\" class=\"data row2 col4\" >0.5000</td>\n",
       "      <td id=\"T_ed603_row2_col5\" class=\"data row2 col5\" >0.2998</td>\n",
       "      <td id=\"T_ed603_row2_col6\" class=\"data row2 col6\" >0.3107</td>\n",
       "    </tr>\n",
       "    <tr>\n",
       "      <th id=\"T_ed603_level0_row3\" class=\"row_heading level0 row3\" >3</th>\n",
       "      <td id=\"T_ed603_row3_col0\" class=\"data row3 col0\" >0.7778</td>\n",
       "      <td id=\"T_ed603_row3_col1\" class=\"data row3 col1\" >0.7970</td>\n",
       "      <td id=\"T_ed603_row3_col2\" class=\"data row3 col2\" >0.5789</td>\n",
       "      <td id=\"T_ed603_row3_col3\" class=\"data row3 col3\" >0.7333</td>\n",
       "      <td id=\"T_ed603_row3_col4\" class=\"data row3 col4\" >0.6471</td>\n",
       "      <td id=\"T_ed603_row3_col5\" class=\"data row3 col5\" >0.4882</td>\n",
       "      <td id=\"T_ed603_row3_col6\" class=\"data row3 col6\" >0.4954</td>\n",
       "    </tr>\n",
       "    <tr>\n",
       "      <th id=\"T_ed603_level0_row4\" class=\"row_heading level0 row4\" >4</th>\n",
       "      <td id=\"T_ed603_row4_col0\" class=\"data row4 col0\" >0.8148</td>\n",
       "      <td id=\"T_ed603_row4_col1\" class=\"data row4 col1\" >0.8677</td>\n",
       "      <td id=\"T_ed603_row4_col2\" class=\"data row4 col2\" >0.6842</td>\n",
       "      <td id=\"T_ed603_row4_col3\" class=\"data row4 col3\" >0.7647</td>\n",
       "      <td id=\"T_ed603_row4_col4\" class=\"data row4 col4\" >0.7222</td>\n",
       "      <td id=\"T_ed603_row4_col5\" class=\"data row4 col5\" >0.5840</td>\n",
       "      <td id=\"T_ed603_row4_col6\" class=\"data row4 col6\" >0.5860</td>\n",
       "    </tr>\n",
       "    <tr>\n",
       "      <th id=\"T_ed603_level0_row5\" class=\"row_heading level0 row5\" >5</th>\n",
       "      <td id=\"T_ed603_row5_col0\" class=\"data row5 col0\" >0.7222</td>\n",
       "      <td id=\"T_ed603_row5_col1\" class=\"data row5 col1\" >0.7895</td>\n",
       "      <td id=\"T_ed603_row5_col2\" class=\"data row5 col2\" >0.5263</td>\n",
       "      <td id=\"T_ed603_row5_col3\" class=\"data row5 col3\" >0.6250</td>\n",
       "      <td id=\"T_ed603_row5_col4\" class=\"data row5 col4\" >0.5714</td>\n",
       "      <td id=\"T_ed603_row5_col5\" class=\"data row5 col5\" >0.3682</td>\n",
       "      <td id=\"T_ed603_row5_col6\" class=\"data row5 col6\" >0.3711</td>\n",
       "    </tr>\n",
       "    <tr>\n",
       "      <th id=\"T_ed603_level0_row6\" class=\"row_heading level0 row6\" >6</th>\n",
       "      <td id=\"T_ed603_row6_col0\" class=\"data row6 col0\" >0.7593</td>\n",
       "      <td id=\"T_ed603_row6_col1\" class=\"data row6 col1\" >0.8075</td>\n",
       "      <td id=\"T_ed603_row6_col2\" class=\"data row6 col2\" >0.5263</td>\n",
       "      <td id=\"T_ed603_row6_col3\" class=\"data row6 col3\" >0.7143</td>\n",
       "      <td id=\"T_ed603_row6_col4\" class=\"data row6 col4\" >0.6061</td>\n",
       "      <td id=\"T_ed603_row6_col5\" class=\"data row6 col5\" >0.4384</td>\n",
       "      <td id=\"T_ed603_row6_col6\" class=\"data row6 col6\" >0.4490</td>\n",
       "    </tr>\n",
       "    <tr>\n",
       "      <th id=\"T_ed603_level0_row7\" class=\"row_heading level0 row7\" >7</th>\n",
       "      <td id=\"T_ed603_row7_col0\" class=\"data row7 col0\" >0.8302</td>\n",
       "      <td id=\"T_ed603_row7_col1\" class=\"data row7 col1\" >0.8857</td>\n",
       "      <td id=\"T_ed603_row7_col2\" class=\"data row7 col2\" >0.7778</td>\n",
       "      <td id=\"T_ed603_row7_col3\" class=\"data row7 col3\" >0.7368</td>\n",
       "      <td id=\"T_ed603_row7_col4\" class=\"data row7 col4\" >0.7568</td>\n",
       "      <td id=\"T_ed603_row7_col5\" class=\"data row7 col5\" >0.6265</td>\n",
       "      <td id=\"T_ed603_row7_col6\" class=\"data row7 col6\" >0.6270</td>\n",
       "    </tr>\n",
       "    <tr>\n",
       "      <th id=\"T_ed603_level0_row8\" class=\"row_heading level0 row8\" >8</th>\n",
       "      <td id=\"T_ed603_row8_col0\" class=\"data row8 col0\" >0.7358</td>\n",
       "      <td id=\"T_ed603_row8_col1\" class=\"data row8 col1\" >0.8206</td>\n",
       "      <td id=\"T_ed603_row8_col2\" class=\"data row8 col2\" >0.6111</td>\n",
       "      <td id=\"T_ed603_row8_col3\" class=\"data row8 col3\" >0.6111</td>\n",
       "      <td id=\"T_ed603_row8_col4\" class=\"data row8 col4\" >0.6111</td>\n",
       "      <td id=\"T_ed603_row8_col5\" class=\"data row8 col5\" >0.4111</td>\n",
       "      <td id=\"T_ed603_row8_col6\" class=\"data row8 col6\" >0.4111</td>\n",
       "    </tr>\n",
       "    <tr>\n",
       "      <th id=\"T_ed603_level0_row9\" class=\"row_heading level0 row9\" >9</th>\n",
       "      <td id=\"T_ed603_row9_col0\" class=\"data row9 col0\" >0.6792</td>\n",
       "      <td id=\"T_ed603_row9_col1\" class=\"data row9 col1\" >0.7714</td>\n",
       "      <td id=\"T_ed603_row9_col2\" class=\"data row9 col2\" >0.3333</td>\n",
       "      <td id=\"T_ed603_row9_col3\" class=\"data row9 col3\" >0.5455</td>\n",
       "      <td id=\"T_ed603_row9_col4\" class=\"data row9 col4\" >0.4138</td>\n",
       "      <td id=\"T_ed603_row9_col5\" class=\"data row9 col5\" >0.2103</td>\n",
       "      <td id=\"T_ed603_row9_col6\" class=\"data row9 col6\" >0.2224</td>\n",
       "    </tr>\n",
       "    <tr>\n",
       "      <th id=\"T_ed603_level0_row10\" class=\"row_heading level0 row10\" >Mean</th>\n",
       "      <td id=\"T_ed603_row10_col0\" class=\"data row10 col0\" >0.7671</td>\n",
       "      <td id=\"T_ed603_row10_col1\" class=\"data row10 col1\" >0.8397</td>\n",
       "      <td id=\"T_ed603_row10_col2\" class=\"data row10 col2\" >0.5775</td>\n",
       "      <td id=\"T_ed603_row10_col3\" class=\"data row10 col3\" >0.6970</td>\n",
       "      <td id=\"T_ed603_row10_col4\" class=\"data row10 col4\" >0.6273</td>\n",
       "      <td id=\"T_ed603_row10_col5\" class=\"data row10 col5\" >0.4619</td>\n",
       "      <td id=\"T_ed603_row10_col6\" class=\"data row10 col6\" >0.4686</td>\n",
       "    </tr>\n",
       "    <tr>\n",
       "      <th id=\"T_ed603_level0_row11\" class=\"row_heading level0 row11\" >Std</th>\n",
       "      <td id=\"T_ed603_row11_col0\" class=\"data row11 col0\" >0.0527</td>\n",
       "      <td id=\"T_ed603_row11_col1\" class=\"data row11 col1\" >0.0501</td>\n",
       "      <td id=\"T_ed603_row11_col2\" class=\"data row11 col2\" >0.1294</td>\n",
       "      <td id=\"T_ed603_row11_col3\" class=\"data row11 col3\" >0.0887</td>\n",
       "      <td id=\"T_ed603_row11_col4\" class=\"data row11 col4\" >0.1059</td>\n",
       "      <td id=\"T_ed603_row11_col5\" class=\"data row11 col5\" >0.1351</td>\n",
       "      <td id=\"T_ed603_row11_col6\" class=\"data row11 col6\" >0.1333</td>\n",
       "    </tr>\n",
       "  </tbody>\n",
       "</table>\n"
      ],
      "text/plain": [
       "<pandas.io.formats.style.Styler at 0x15e96fc10>"
      ]
     },
     "metadata": {},
     "output_type": "display_data"
    },
    {
     "data": {
      "text/html": [],
      "text/plain": [
       "<IPython.core.display.HTML object>"
      ]
     },
     "metadata": {},
     "output_type": "display_data"
    }
   ],
   "source": [
    "blend_soft = blend_models(estimator_list = top5, optimize = 'AUC',method = 'soft')"
   ]
  },
  {
   "cell_type": "code",
   "execution_count": 18,
   "metadata": {},
   "outputs": [
    {
     "name": "stdout",
     "output_type": "stream",
     "text": [
      "Evaluation scores of Soft Voting: \n",
      "\n",
      "Accuracy Score of the model: \n",
      "Accuracy score on training data:  0.9022801302931596\n",
      "Accuracy score on test data:  0.9155844155844156\n",
      "\n",
      "Precision of the model: \n",
      "Precision score on training data:  0.8928571428571429\n",
      "Precision score on test data:  0.9361702127659575\n",
      "\n",
      "Recall of the model: \n",
      "Recall score on training data:  0.8177570093457944\n",
      "Recall score on test data:  0.8148148148148148\n",
      "\n",
      "f1 score of the model: \n",
      "f1 score on training data:  0.8536585365853658\n",
      "f1 score on test data:  0.8712871287128713\n"
     ]
    },
    {
     "data": {
      "image/png": "[encoded data removed]",
      "text/plain": [
       "<Figure size 800x550 with 1 Axes>"
      ]
     },
     "metadata": {},
     "output_type": "display_data"
    },
    {
     "data": {
      "image/png": "[encoded data removed]",
      "text/plain": [
       "<Figure size 800x550 with 1 Axes>"
      ]
     },
     "metadata": {},
     "output_type": "display_data"
    }
   ],
   "source": [
    "print(\"Evaluation scores of Soft Voting: \")\n",
    "print()\n",
    "evaluation(blend_soft)"
   ]
  },
  {
   "cell_type": "markdown",
   "metadata": {},
   "source": [
    "### Calibrating the Model"
   ]
  },
  {
   "cell_type": "markdown",
   "metadata": {},
   "source": [
    "Calibrating a model is the process of adjusting the predicted probabilities output by a model to better reflect the true probabilities of the outcomes.\n",
    "\n",
    "When a classification model generates probabilities for each class, these probabilities ideally represent the model's confidence in its predictions. However, these predicted probabilities may not always be well-calibrated, meaning they may not accurately reflect the true likelihood of the corresponding outcomes.\n",
    "\n",
    "Calibration ensures that the probabilities are reliable and can be interpreted meaningfully."
   ]
  },
  {
   "cell_type": "code",
   "execution_count": 19,
   "metadata": {},
   "outputs": [],
   "source": [
    "from pycaret.classification import calibrate_model"
   ]
  },
  {
   "cell_type": "code",
   "execution_count": 20,
   "metadata": {},
   "outputs": [
    {
     "data": {
      "text/html": [],
      "text/plain": [
       "<IPython.core.display.HTML object>"
      ]
     },
     "metadata": {},
     "output_type": "display_data"
    },
    {
     "data": {
      "text/html": [
       "<style type=\"text/css\">\n",
       "#T_b12cc_row10_col0, #T_b12cc_row10_col1, #T_b12cc_row10_col2, #T_b12cc_row10_col3, #T_b12cc_row10_col4, #T_b12cc_row10_col5, #T_b12cc_row10_col6 {\n",
       "  background: yellow;\n",
       "}\n",
       "</style>\n",
       "<table id=\"T_b12cc\">\n",
       "  <thead>\n",
       "    <tr>\n",
       "      <th class=\"blank level0\" >&nbsp;</th>\n",
       "      <th id=\"T_b12cc_level0_col0\" class=\"col_heading level0 col0\" >Accuracy</th>\n",
       "      <th id=\"T_b12cc_level0_col1\" class=\"col_heading level0 col1\" >AUC</th>\n",
       "      <th id=\"T_b12cc_level0_col2\" class=\"col_heading level0 col2\" >Recall</th>\n",
       "      <th id=\"T_b12cc_level0_col3\" class=\"col_heading level0 col3\" >Prec.</th>\n",
       "      <th id=\"T_b12cc_level0_col4\" class=\"col_heading level0 col4\" >F1</th>\n",
       "      <th id=\"T_b12cc_level0_col5\" class=\"col_heading level0 col5\" >Kappa</th>\n",
       "      <th id=\"T_b12cc_level0_col6\" class=\"col_heading level0 col6\" >MCC</th>\n",
       "    </tr>\n",
       "    <tr>\n",
       "      <th class=\"index_name level0\" >Fold</th>\n",
       "      <th class=\"blank col0\" >&nbsp;</th>\n",
       "      <th class=\"blank col1\" >&nbsp;</th>\n",
       "      <th class=\"blank col2\" >&nbsp;</th>\n",
       "      <th class=\"blank col3\" >&nbsp;</th>\n",
       "      <th class=\"blank col4\" >&nbsp;</th>\n",
       "      <th class=\"blank col5\" >&nbsp;</th>\n",
       "      <th class=\"blank col6\" >&nbsp;</th>\n",
       "    </tr>\n",
       "  </thead>\n",
       "  <tbody>\n",
       "    <tr>\n",
       "      <th id=\"T_b12cc_level0_row0\" class=\"row_heading level0 row0\" >0</th>\n",
       "      <td id=\"T_b12cc_row0_col0\" class=\"data row0 col0\" >0.8519</td>\n",
       "      <td id=\"T_b12cc_row0_col1\" class=\"data row0 col1\" >0.9113</td>\n",
       "      <td id=\"T_b12cc_row0_col2\" class=\"data row0 col2\" >0.6842</td>\n",
       "      <td id=\"T_b12cc_row0_col3\" class=\"data row0 col3\" >0.8667</td>\n",
       "      <td id=\"T_b12cc_row0_col4\" class=\"data row0 col4\" >0.7647</td>\n",
       "      <td id=\"T_b12cc_row0_col5\" class=\"data row0 col5\" >0.6588</td>\n",
       "      <td id=\"T_b12cc_row0_col6\" class=\"data row0 col6\" >0.6686</td>\n",
       "    </tr>\n",
       "    <tr>\n",
       "      <th id=\"T_b12cc_level0_row1\" class=\"row_heading level0 row1\" >1</th>\n",
       "      <td id=\"T_b12cc_row1_col0\" class=\"data row1 col0\" >0.8333</td>\n",
       "      <td id=\"T_b12cc_row1_col1\" class=\"data row1 col1\" >0.9233</td>\n",
       "      <td id=\"T_b12cc_row1_col2\" class=\"data row1 col2\" >0.7368</td>\n",
       "      <td id=\"T_b12cc_row1_col3\" class=\"data row1 col3\" >0.7778</td>\n",
       "      <td id=\"T_b12cc_row1_col4\" class=\"data row1 col4\" >0.7568</td>\n",
       "      <td id=\"T_b12cc_row1_col5\" class=\"data row1 col5\" >0.6301</td>\n",
       "      <td id=\"T_b12cc_row1_col6\" class=\"data row1 col6\" >0.6307</td>\n",
       "    </tr>\n",
       "    <tr>\n",
       "      <th id=\"T_b12cc_level0_row2\" class=\"row_heading level0 row2\" >2</th>\n",
       "      <td id=\"T_b12cc_row2_col0\" class=\"data row2 col0\" >0.6852</td>\n",
       "      <td id=\"T_b12cc_row2_col1\" class=\"data row2 col1\" >0.8301</td>\n",
       "      <td id=\"T_b12cc_row2_col2\" class=\"data row2 col2\" >0.3684</td>\n",
       "      <td id=\"T_b12cc_row2_col3\" class=\"data row2 col3\" >0.5833</td>\n",
       "      <td id=\"T_b12cc_row2_col4\" class=\"data row2 col4\" >0.4516</td>\n",
       "      <td id=\"T_b12cc_row2_col5\" class=\"data row2 col5\" >0.2463</td>\n",
       "      <td id=\"T_b12cc_row2_col6\" class=\"data row2 col6\" >0.2591</td>\n",
       "    </tr>\n",
       "    <tr>\n",
       "      <th id=\"T_b12cc_level0_row3\" class=\"row_heading level0 row3\" >3</th>\n",
       "      <td id=\"T_b12cc_row3_col0\" class=\"data row3 col0\" >0.7778</td>\n",
       "      <td id=\"T_b12cc_row3_col1\" class=\"data row3 col1\" >0.7940</td>\n",
       "      <td id=\"T_b12cc_row3_col2\" class=\"data row3 col2\" >0.5789</td>\n",
       "      <td id=\"T_b12cc_row3_col3\" class=\"data row3 col3\" >0.7333</td>\n",
       "      <td id=\"T_b12cc_row3_col4\" class=\"data row3 col4\" >0.6471</td>\n",
       "      <td id=\"T_b12cc_row3_col5\" class=\"data row3 col5\" >0.4882</td>\n",
       "      <td id=\"T_b12cc_row3_col6\" class=\"data row3 col6\" >0.4954</td>\n",
       "    </tr>\n",
       "    <tr>\n",
       "      <th id=\"T_b12cc_level0_row4\" class=\"row_heading level0 row4\" >4</th>\n",
       "      <td id=\"T_b12cc_row4_col0\" class=\"data row4 col0\" >0.8148</td>\n",
       "      <td id=\"T_b12cc_row4_col1\" class=\"data row4 col1\" >0.8692</td>\n",
       "      <td id=\"T_b12cc_row4_col2\" class=\"data row4 col2\" >0.6842</td>\n",
       "      <td id=\"T_b12cc_row4_col3\" class=\"data row4 col3\" >0.7647</td>\n",
       "      <td id=\"T_b12cc_row4_col4\" class=\"data row4 col4\" >0.7222</td>\n",
       "      <td id=\"T_b12cc_row4_col5\" class=\"data row4 col5\" >0.5840</td>\n",
       "      <td id=\"T_b12cc_row4_col6\" class=\"data row4 col6\" >0.5860</td>\n",
       "    </tr>\n",
       "    <tr>\n",
       "      <th id=\"T_b12cc_level0_row5\" class=\"row_heading level0 row5\" >5</th>\n",
       "      <td id=\"T_b12cc_row5_col0\" class=\"data row5 col0\" >0.7037</td>\n",
       "      <td id=\"T_b12cc_row5_col1\" class=\"data row5 col1\" >0.7925</td>\n",
       "      <td id=\"T_b12cc_row5_col2\" class=\"data row5 col2\" >0.4737</td>\n",
       "      <td id=\"T_b12cc_row5_col3\" class=\"data row5 col3\" >0.6000</td>\n",
       "      <td id=\"T_b12cc_row5_col4\" class=\"data row5 col4\" >0.5294</td>\n",
       "      <td id=\"T_b12cc_row5_col5\" class=\"data row5 col5\" >0.3175</td>\n",
       "      <td id=\"T_b12cc_row5_col6\" class=\"data row5 col6\" >0.3223</td>\n",
       "    </tr>\n",
       "    <tr>\n",
       "      <th id=\"T_b12cc_level0_row6\" class=\"row_heading level0 row6\" >6</th>\n",
       "      <td id=\"T_b12cc_row6_col0\" class=\"data row6 col0\" >0.7593</td>\n",
       "      <td id=\"T_b12cc_row6_col1\" class=\"data row6 col1\" >0.8195</td>\n",
       "      <td id=\"T_b12cc_row6_col2\" class=\"data row6 col2\" >0.5263</td>\n",
       "      <td id=\"T_b12cc_row6_col3\" class=\"data row6 col3\" >0.7143</td>\n",
       "      <td id=\"T_b12cc_row6_col4\" class=\"data row6 col4\" >0.6061</td>\n",
       "      <td id=\"T_b12cc_row6_col5\" class=\"data row6 col5\" >0.4384</td>\n",
       "      <td id=\"T_b12cc_row6_col6\" class=\"data row6 col6\" >0.4490</td>\n",
       "    </tr>\n",
       "    <tr>\n",
       "      <th id=\"T_b12cc_level0_row7\" class=\"row_heading level0 row7\" >7</th>\n",
       "      <td id=\"T_b12cc_row7_col0\" class=\"data row7 col0\" >0.8491</td>\n",
       "      <td id=\"T_b12cc_row7_col1\" class=\"data row7 col1\" >0.8857</td>\n",
       "      <td id=\"T_b12cc_row7_col2\" class=\"data row7 col2\" >0.7778</td>\n",
       "      <td id=\"T_b12cc_row7_col3\" class=\"data row7 col3\" >0.7778</td>\n",
       "      <td id=\"T_b12cc_row7_col4\" class=\"data row7 col4\" >0.7778</td>\n",
       "      <td id=\"T_b12cc_row7_col5\" class=\"data row7 col5\" >0.6635</td>\n",
       "      <td id=\"T_b12cc_row7_col6\" class=\"data row7 col6\" >0.6635</td>\n",
       "    </tr>\n",
       "    <tr>\n",
       "      <th id=\"T_b12cc_level0_row8\" class=\"row_heading level0 row8\" >8</th>\n",
       "      <td id=\"T_b12cc_row8_col0\" class=\"data row8 col0\" >0.8113</td>\n",
       "      <td id=\"T_b12cc_row8_col1\" class=\"data row8 col1\" >0.8238</td>\n",
       "      <td id=\"T_b12cc_row8_col2\" class=\"data row8 col2\" >0.7222</td>\n",
       "      <td id=\"T_b12cc_row8_col3\" class=\"data row8 col3\" >0.7222</td>\n",
       "      <td id=\"T_b12cc_row8_col4\" class=\"data row8 col4\" >0.7222</td>\n",
       "      <td id=\"T_b12cc_row8_col5\" class=\"data row8 col5\" >0.5794</td>\n",
       "      <td id=\"T_b12cc_row8_col6\" class=\"data row8 col6\" >0.5794</td>\n",
       "    </tr>\n",
       "    <tr>\n",
       "      <th id=\"T_b12cc_level0_row9\" class=\"row_heading level0 row9\" >9</th>\n",
       "      <td id=\"T_b12cc_row9_col0\" class=\"data row9 col0\" >0.6792</td>\n",
       "      <td id=\"T_b12cc_row9_col1\" class=\"data row9 col1\" >0.7762</td>\n",
       "      <td id=\"T_b12cc_row9_col2\" class=\"data row9 col2\" >0.3333</td>\n",
       "      <td id=\"T_b12cc_row9_col3\" class=\"data row9 col3\" >0.5455</td>\n",
       "      <td id=\"T_b12cc_row9_col4\" class=\"data row9 col4\" >0.4138</td>\n",
       "      <td id=\"T_b12cc_row9_col5\" class=\"data row9 col5\" >0.2103</td>\n",
       "      <td id=\"T_b12cc_row9_col6\" class=\"data row9 col6\" >0.2224</td>\n",
       "    </tr>\n",
       "    <tr>\n",
       "      <th id=\"T_b12cc_level0_row10\" class=\"row_heading level0 row10\" >Mean</th>\n",
       "      <td id=\"T_b12cc_row10_col0\" class=\"data row10 col0\" >0.7766</td>\n",
       "      <td id=\"T_b12cc_row10_col1\" class=\"data row10 col1\" >0.8426</td>\n",
       "      <td id=\"T_b12cc_row10_col2\" class=\"data row10 col2\" >0.5886</td>\n",
       "      <td id=\"T_b12cc_row10_col3\" class=\"data row10 col3\" >0.7086</td>\n",
       "      <td id=\"T_b12cc_row10_col4\" class=\"data row10 col4\" >0.6392</td>\n",
       "      <td id=\"T_b12cc_row10_col5\" class=\"data row10 col5\" >0.4816</td>\n",
       "      <td id=\"T_b12cc_row10_col6\" class=\"data row10 col6\" >0.4876</td>\n",
       "    </tr>\n",
       "    <tr>\n",
       "      <th id=\"T_b12cc_level0_row11\" class=\"row_heading level0 row11\" >Std</th>\n",
       "      <td id=\"T_b12cc_row11_col0\" class=\"data row11 col0\" >0.0634</td>\n",
       "      <td id=\"T_b12cc_row11_col1\" class=\"data row11 col1\" >0.0491</td>\n",
       "      <td id=\"T_b12cc_row11_col2\" class=\"data row11 col2\" >0.1499</td>\n",
       "      <td id=\"T_b12cc_row11_col3\" class=\"data row11 col3\" >0.0962</td>\n",
       "      <td id=\"T_b12cc_row11_col4\" class=\"data row11 col4\" >0.1272</td>\n",
       "      <td id=\"T_b12cc_row11_col5\" class=\"data row11 col5\" >0.1626</td>\n",
       "      <td id=\"T_b12cc_row11_col6\" class=\"data row11 col6\" >0.1593</td>\n",
       "    </tr>\n",
       "  </tbody>\n",
       "</table>\n"
      ],
      "text/plain": [
       "<pandas.io.formats.style.Styler at 0x169906b50>"
      ]
     },
     "metadata": {},
     "output_type": "display_data"
    },
    {
     "data": {
      "text/html": [],
      "text/plain": [
       "<IPython.core.display.HTML object>"
      ]
     },
     "metadata": {},
     "output_type": "display_data"
    }
   ],
   "source": [
    "cali_model = calibrate_model(blend_soft)"
   ]
  },
  {
   "cell_type": "markdown",
   "metadata": {},
   "source": [
    "### Finalizing the Model"
   ]
  },
  {
   "cell_type": "code",
   "execution_count": 21,
   "metadata": {},
   "outputs": [],
   "source": [
    "from pycaret.classification import finalize_model"
   ]
  },
  {
   "cell_type": "code",
   "execution_count": 22,
   "metadata": {},
   "outputs": [],
   "source": [
    "final_model = finalize_model(cali_model)"
   ]
  },
  {
   "cell_type": "code",
   "execution_count": 23,
   "metadata": {},
   "outputs": [
    {
     "name": "stdout",
     "output_type": "stream",
     "text": [
      "Final Evaluation scores of the model: \n",
      "\n",
      "Accuracy Score of the model: \n",
      "Accuracy score on training data:  0.9348534201954397\n",
      "Accuracy score on test data:  0.922077922077922\n",
      "\n",
      "Precision of the model: \n",
      "Precision score on training data:  0.9484536082474226\n",
      "Precision score on test data:  0.9772727272727273\n",
      "\n",
      "Recall of the model: \n",
      "Recall score on training data:  0.8598130841121495\n",
      "Recall score on test data:  0.7962962962962963\n",
      "\n",
      "f1 score of the model: \n",
      "f1 score on training data:  0.9019607843137255\n",
      "f1 score on test data:  0.8775510204081632\n"
     ]
    },
    {
     "data": {
      "image/png": "[encoded data removed]",
      "text/plain": [
       "<Figure size 800x550 with 1 Axes>"
      ]
     },
     "metadata": {},
     "output_type": "display_data"
    },
    {
     "data": {
      "image/png": "[encoded data removed]",
      "text/plain": [
       "<Figure size 800x550 with 1 Axes>"
      ]
     },
     "metadata": {},
     "output_type": "display_data"
    }
   ],
   "source": [
    "print(\"Final Evaluation scores of the model: \")\n",
    "print()\n",
    "evaluation(final_model)"
   ]
  },
  {
   "cell_type": "markdown",
   "metadata": {
    "id": "FCHCMHpshHU4"
   },
   "source": [
    "### Saving the trained model"
   ]
  },
  {
   "cell_type": "code",
   "execution_count": 24,
   "metadata": {
    "executionInfo": {
     "elapsed": 18,
     "status": "ok",
     "timestamp": 1653200163543,
     "user": {
      "displayName": "siddhardh selvam",
      "userId": "13966379820454708749"
     },
     "user_tz": -330
    },
    "id": "cdmTOR4MhHCB"
   },
   "outputs": [],
   "source": [
    "import pickle"
   ]
  },
  {
   "cell_type": "code",
   "execution_count": 25,
   "metadata": {
    "executionInfo": {
     "elapsed": 17,
     "status": "ok",
     "timestamp": 1653200163543,
     "user": {
      "displayName": "siddhardh selvam",
      "userId": "13966379820454708749"
     },
     "user_tz": -330
    },
    "id": "4gN09lokhKuZ"
   },
   "outputs": [],
   "source": [
    "filename = 'diabetes_model_new.sav'\n",
    "pickle.dump(final_model, open(filename, 'wb'))"
   ]
  }
 ],
 "metadata": {
  "colab": {
   "authorship_tag": "ABX9TyNUMtWtqiQOs+bSuSretvw5",
   "collapsed_sections": [],
   "name": "Multiple disease prediction system - diabetes.ipynb",
   "provenance": []
  },
  "kernelspec": {
   "display_name": "Python 3 (ipykernel)",
   "language": "python",
   "name": "python3"
  },
  "language_info": {
   "codemirror_mode": {
    "name": "ipython",
    "version": 3
   },
   "file_extension": ".py",
   "mimetype": "text/x-python",
   "name": "python",
   "nbconvert_exporter": "python",
   "pygments_lexer": "ipython3",
   "version": "3.11.7"
  }
 },
 "nbformat": 4,
 "nbformat_minor": 1
}
